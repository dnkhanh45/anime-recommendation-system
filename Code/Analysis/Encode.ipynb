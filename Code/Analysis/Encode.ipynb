{
 "cells": [
  {
   "cell_type": "code",
   "execution_count": null,
   "metadata": {
    "id": "yCU_x_fGyZ8b"
   },
   "outputs": [],
   "source": [
    "import pandas as pd\n",
    "import numpy as np"
   ]
  },
  {
   "cell_type": "code",
   "execution_count": null,
   "metadata": {
    "id": "hg3UwH34ydn9"
   },
   "outputs": [],
   "source": [
    "anime = pd.read_csv('/content/gdrive/MyDrive/Colab Notebooks/Anime Recommendation System/Data/Raw/anime.csv')\n",
    "rating = pd.read_csv('/content/gdrive/MyDrive/Colab Notebooks/Anime Recommendation System/Data/Raw/rating.csv')"
   ]
  },
  {
   "cell_type": "code",
   "execution_count": null,
   "metadata": {
    "colab": {
     "base_uri": "https://localhost:8080/",
     "height": 402
    },
    "executionInfo": {
     "elapsed": 300,
     "status": "ok",
     "timestamp": 1622472589538,
     "user": {
      "displayName": "Ánh Sương 257",
      "photoUrl": "https://lh3.googleusercontent.com/a-/AOh14GhCXmXVzbkkYszV1VAcXSYX8VeICYBoI3IcKUAo4Q=s64",
      "userId": "03472810742863595681"
     },
     "user_tz": -420
    },
    "id": "wq4d-DXOyZgs",
    "outputId": "724de25b-0312-4035-8b09-c7f28b674f61"
   },
   "outputs": [
    {
     "data": {
      "text/html": [
       "<div>\n",
       "<style scoped>\n",
       "    .dataframe tbody tr th:only-of-type {\n",
       "        vertical-align: middle;\n",
       "    }\n",
       "\n",
       "    .dataframe tbody tr th {\n",
       "        vertical-align: top;\n",
       "    }\n",
       "\n",
       "    .dataframe thead th {\n",
       "        text-align: right;\n",
       "    }\n",
       "</style>\n",
       "<table border=\"1\" class=\"dataframe\">\n",
       "  <thead>\n",
       "    <tr style=\"text-align: right;\">\n",
       "      <th></th>\n",
       "      <th>anime_id</th>\n",
       "      <th>name</th>\n",
       "      <th>genre</th>\n",
       "      <th>type</th>\n",
       "      <th>episodes</th>\n",
       "      <th>rating</th>\n",
       "      <th>members</th>\n",
       "    </tr>\n",
       "  </thead>\n",
       "  <tbody>\n",
       "    <tr>\n",
       "      <th>0</th>\n",
       "      <td>32281</td>\n",
       "      <td>Kimi no Na wa.</td>\n",
       "      <td>Drama, Romance, School, Supernatural</td>\n",
       "      <td>Movie</td>\n",
       "      <td>1</td>\n",
       "      <td>9.37</td>\n",
       "      <td>200630</td>\n",
       "    </tr>\n",
       "    <tr>\n",
       "      <th>1</th>\n",
       "      <td>5114</td>\n",
       "      <td>Fullmetal Alchemist: Brotherhood</td>\n",
       "      <td>Action, Adventure, Drama, Fantasy, Magic, Mili...</td>\n",
       "      <td>TV</td>\n",
       "      <td>64</td>\n",
       "      <td>9.26</td>\n",
       "      <td>793665</td>\n",
       "    </tr>\n",
       "    <tr>\n",
       "      <th>2</th>\n",
       "      <td>28977</td>\n",
       "      <td>Gintama°</td>\n",
       "      <td>Action, Comedy, Historical, Parody, Samurai, S...</td>\n",
       "      <td>TV</td>\n",
       "      <td>51</td>\n",
       "      <td>9.25</td>\n",
       "      <td>114262</td>\n",
       "    </tr>\n",
       "    <tr>\n",
       "      <th>3</th>\n",
       "      <td>9253</td>\n",
       "      <td>Steins;Gate</td>\n",
       "      <td>Sci-Fi, Thriller</td>\n",
       "      <td>TV</td>\n",
       "      <td>24</td>\n",
       "      <td>9.17</td>\n",
       "      <td>673572</td>\n",
       "    </tr>\n",
       "    <tr>\n",
       "      <th>4</th>\n",
       "      <td>9969</td>\n",
       "      <td>Gintama&amp;#039;</td>\n",
       "      <td>Action, Comedy, Historical, Parody, Samurai, S...</td>\n",
       "      <td>TV</td>\n",
       "      <td>51</td>\n",
       "      <td>9.16</td>\n",
       "      <td>151266</td>\n",
       "    </tr>\n",
       "    <tr>\n",
       "      <th>...</th>\n",
       "      <td>...</td>\n",
       "      <td>...</td>\n",
       "      <td>...</td>\n",
       "      <td>...</td>\n",
       "      <td>...</td>\n",
       "      <td>...</td>\n",
       "      <td>...</td>\n",
       "    </tr>\n",
       "    <tr>\n",
       "      <th>12289</th>\n",
       "      <td>9316</td>\n",
       "      <td>Toushindai My Lover: Minami tai Mecha-Minami</td>\n",
       "      <td>Hentai</td>\n",
       "      <td>OVA</td>\n",
       "      <td>1</td>\n",
       "      <td>4.15</td>\n",
       "      <td>211</td>\n",
       "    </tr>\n",
       "    <tr>\n",
       "      <th>12290</th>\n",
       "      <td>5543</td>\n",
       "      <td>Under World</td>\n",
       "      <td>Hentai</td>\n",
       "      <td>OVA</td>\n",
       "      <td>1</td>\n",
       "      <td>4.28</td>\n",
       "      <td>183</td>\n",
       "    </tr>\n",
       "    <tr>\n",
       "      <th>12291</th>\n",
       "      <td>5621</td>\n",
       "      <td>Violence Gekiga David no Hoshi</td>\n",
       "      <td>Hentai</td>\n",
       "      <td>OVA</td>\n",
       "      <td>4</td>\n",
       "      <td>4.88</td>\n",
       "      <td>219</td>\n",
       "    </tr>\n",
       "    <tr>\n",
       "      <th>12292</th>\n",
       "      <td>6133</td>\n",
       "      <td>Violence Gekiga Shin David no Hoshi: Inma Dens...</td>\n",
       "      <td>Hentai</td>\n",
       "      <td>OVA</td>\n",
       "      <td>1</td>\n",
       "      <td>4.98</td>\n",
       "      <td>175</td>\n",
       "    </tr>\n",
       "    <tr>\n",
       "      <th>12293</th>\n",
       "      <td>26081</td>\n",
       "      <td>Yasuji no Pornorama: Yacchimae!!</td>\n",
       "      <td>Hentai</td>\n",
       "      <td>Movie</td>\n",
       "      <td>1</td>\n",
       "      <td>5.46</td>\n",
       "      <td>142</td>\n",
       "    </tr>\n",
       "  </tbody>\n",
       "</table>\n",
       "<p>12294 rows × 7 columns</p>\n",
       "</div>"
      ],
      "text/plain": [
       "       anime_id  ... members\n",
       "0         32281  ...  200630\n",
       "1          5114  ...  793665\n",
       "2         28977  ...  114262\n",
       "3          9253  ...  673572\n",
       "4          9969  ...  151266\n",
       "...         ...  ...     ...\n",
       "12289      9316  ...     211\n",
       "12290      5543  ...     183\n",
       "12291      5621  ...     219\n",
       "12292      6133  ...     175\n",
       "12293     26081  ...     142\n",
       "\n",
       "[12294 rows x 7 columns]"
      ]
     },
     "execution_count": 5,
     "metadata": {
      "tags": []
     },
     "output_type": "execute_result"
    }
   ],
   "source": [
    "anime"
   ]
  },
  {
   "cell_type": "code",
   "execution_count": null,
   "metadata": {
    "colab": {
     "base_uri": "https://localhost:8080/"
    },
    "executionInfo": {
     "elapsed": 1004,
     "status": "ok",
     "timestamp": 1622472645434,
     "user": {
      "displayName": "Ánh Sương 257",
      "photoUrl": "https://lh3.googleusercontent.com/a-/AOh14GhCXmXVzbkkYszV1VAcXSYX8VeICYBoI3IcKUAo4Q=s64",
      "userId": "03472810742863595681"
     },
     "user_tz": -420
    },
    "id": "LrbbBp-3ywem",
    "outputId": "e939f897-7668-4238-faa2-aa21894700d2"
   },
   "outputs": [
    {
     "name": "stdout",
     "output_type": "stream",
     "text": [
      "Old shape:  (7813737, 3)\n",
      "anime_id len:  12294\n",
      "rated_anime_id len:  11200\n",
      "unrated_anime_id len:  1097\n",
      "strange_anime_id len:  3\n",
      "Delete strange anime in rating dataframe:\n",
      "rated_anime_id len:  11197\n",
      "New shape:  (7813727, 3)\n"
     ]
    }
   ],
   "source": [
    "print(\"Old shape: \", rating.shape)\n",
    "anime_id = anime['anime_id'].unique()\n",
    "print(\"anime_id len: \", len(anime_id))\n",
    "\n",
    "rated_anime_id = rating['anime_id'].unique()\n",
    "print(\"rated_anime_id len: \", len(rated_anime_id))\n",
    "\n",
    "unrated_anime_id = []\n",
    "for aid in anime_id:\n",
    "    if aid not in rated_anime_id:\n",
    "        unrated_anime_id.append(aid)\n",
    "unrated_anime_id = np.asarray(unrated_anime_id)\n",
    "print(\"unrated_anime_id len: \", len(unrated_anime_id))\n",
    "\n",
    "strange_anime_id = []\n",
    "for aid in rated_anime_id:\n",
    "    if aid not in anime_id:\n",
    "        strange_anime_id.append(aid)\n",
    "strange_anime_id = np.asarray(strange_anime_id)\n",
    "print(\"strange_anime_id len: \", len(strange_anime_id))\n",
    "\n",
    "print(\"Delete strange anime in rating dataframe:\")\n",
    "rating = rating[(rating.anime_id != strange_anime_id[0]) & (rating.anime_id != strange_anime_id[1]) & (rating.anime_id != strange_anime_id[2])]\n",
    "rated_anime_id = rating['anime_id'].unique()\n",
    "print(\"rated_anime_id len: \", len(rated_anime_id))\n",
    "strange_anime_id = []\n",
    "for aid in rated_anime_id:\n",
    "    if aid not in anime_id:\n",
    "        strange_anime_id.append(aid)\n",
    "strange_anime_id = np.asarray(strange_anime_id)\n",
    "print(\"New shape: \", rating.shape)\n"
   ]
  },
  {
   "cell_type": "code",
   "execution_count": null,
   "metadata": {
    "colab": {
     "base_uri": "https://localhost:8080/"
    },
    "executionInfo": {
     "elapsed": 270,
     "status": "ok",
     "timestamp": 1622472647263,
     "user": {
      "displayName": "Ánh Sương 257",
      "photoUrl": "https://lh3.googleusercontent.com/a-/AOh14GhCXmXVzbkkYszV1VAcXSYX8VeICYBoI3IcKUAo4Q=s64",
      "userId": "03472810742863595681"
     },
     "user_tz": -420
    },
    "id": "YK1vwO94yzdr",
    "outputId": "961e70ec-6f24-41a8-a606-9bc6954736ae"
   },
   "outputs": [
    {
     "name": "stdout",
     "output_type": "stream",
     "text": [
      "user_id len:  73515\n"
     ]
    }
   ],
   "source": [
    "user_id = rating['user_id'].unique()\n",
    "print(\"user_id len: \", len(user_id))"
   ]
  },
  {
   "cell_type": "markdown",
   "metadata": {
    "id": "A37dePhkzIXJ"
   },
   "source": [
    "user_id is from 1 to 73516 except 46809."
   ]
  },
  {
   "cell_type": "markdown",
   "metadata": {
    "id": "-NWzLSS_zm8q"
   },
   "source": [
    "Just care about two set: rated_anime_id (length of 11197) and user_id (length of 73151)"
   ]
  },
  {
   "cell_type": "code",
   "execution_count": null,
   "metadata": {
    "id": "hngqI0ujzFpB"
   },
   "outputs": [],
   "source": [
    "anime['genre'] = anime['genre'].fillna('')\n",
    "genre_set = set()\n",
    "for genres in anime['genre']:\n",
    "    genres = genres.split(', ')\n",
    "    genre_set.update(genres)\n",
    "genre_set.remove('')\n",
    "print(type(genre_set))\n",
    "genre_list = sorted(genre_set)\n",
    "# print(len(genre_set))\n",
    "# for genre in genre_set:\n",
    "#     print(genre)\n",
    "\n",
    "genre_index_dict = {}\n",
    "for i in range(len(genre_list)):\n",
    "    genre_index_dict[genre_list[i]] = i\n",
    "print(genre_index_dict)\n",
    "print(type(genre_list))\n",
    "\n",
    "\n",
    "def encode_genre(genres):\n",
    "    result = np.asarray([0] * len(genre_list))\n",
    "    if genres == '':\n",
    "        return result\n",
    "    genres = genres.split(', ')\n",
    "    for genre in genres:\n",
    "        result[genre_index_dict[genre]] = 1\n",
    "    return result\n",
    "\n",
    "\n",
    "anime['encoded_genre'] = anime['genre'].apply(lambda x: list(encode_genre(x)))\n",
    "print(anime.columns)\n",
    "print(anime[['anime_id', 'encoded_genre']])"
   ]
  },
  {
   "cell_type": "code",
   "execution_count": null,
   "metadata": {
    "id": "fbFU32kr6BM3"
   },
   "outputs": [],
   "source": [
    "anime[['anime_id', 'encoded_genre']]"
   ]
  },
  {
   "cell_type": "code",
   "execution_count": null,
   "metadata": {
    "colab": {
     "base_uri": "https://localhost:8080/"
    },
    "executionInfo": {
     "elapsed": 433,
     "status": "ok",
     "timestamp": 1622472766655,
     "user": {
      "displayName": "Ánh Sương 257",
      "photoUrl": "https://lh3.googleusercontent.com/a-/AOh14GhCXmXVzbkkYszV1VAcXSYX8VeICYBoI3IcKUAo4Q=s64",
      "userId": "03472810742863595681"
     },
     "user_tz": -420
    },
    "id": "3qCMbEdi6DVm",
    "outputId": "b5bb72fa-ec02-4507-ebb2-8dc98fe2d2e9"
   },
   "outputs": [
    {
     "data": {
      "text/plain": [
       "11197"
      ]
     },
     "execution_count": 13,
     "metadata": {
      "tags": []
     },
     "output_type": "execute_result"
    }
   ],
   "source": [
    "rated_anime_id = rating['anime_id'].unique()\n",
    "len(rated_anime_id)"
   ]
  },
  {
   "cell_type": "code",
   "execution_count": null,
   "metadata": {
    "colab": {
     "base_uri": "https://localhost:8080/"
    },
    "executionInfo": {
     "elapsed": 279,
     "status": "ok",
     "timestamp": 1622473216838,
     "user": {
      "displayName": "Ánh Sương 257",
      "photoUrl": "https://lh3.googleusercontent.com/a-/AOh14GhCXmXVzbkkYszV1VAcXSYX8VeICYBoI3IcKUAo4Q=s64",
      "userId": "03472810742863595681"
     },
     "user_tz": -420
    },
    "id": "6NlhLvvK6U2e",
    "outputId": "b61b3ec4-a72b-480d-83ec-523741eb7776"
   },
   "outputs": [
    {
     "data": {
      "text/plain": [
       "array(['Movie', 'TV', 'OVA', 'Special', 'Music', 'ONA', nan], dtype=object)"
      ]
     },
     "execution_count": 23,
     "metadata": {
      "tags": []
     },
     "output_type": "execute_result"
    }
   ],
   "source": [
    "anime['type'].unique()"
   ]
  },
  {
   "cell_type": "code",
   "execution_count": null,
   "metadata": {
    "colab": {
     "base_uri": "https://localhost:8080/",
     "height": 166
    },
    "executionInfo": {
     "elapsed": 272,
     "status": "ok",
     "timestamp": 1622473617997,
     "user": {
      "displayName": "Ánh Sương 257",
      "photoUrl": "https://lh3.googleusercontent.com/a-/AOh14GhCXmXVzbkkYszV1VAcXSYX8VeICYBoI3IcKUAo4Q=s64",
      "userId": "03472810742863595681"
     },
     "user_tz": -420
    },
    "id": "T1o27K5Q9VUL",
    "outputId": "02dee519-bea8-4889-9458-b35be65af888"
   },
   "outputs": [
    {
     "data": {
      "text/html": [
       "<div>\n",
       "<style scoped>\n",
       "    .dataframe tbody tr th:only-of-type {\n",
       "        vertical-align: middle;\n",
       "    }\n",
       "\n",
       "    .dataframe tbody tr th {\n",
       "        vertical-align: top;\n",
       "    }\n",
       "\n",
       "    .dataframe thead th {\n",
       "        text-align: right;\n",
       "    }\n",
       "</style>\n",
       "<table border=\"1\" class=\"dataframe\">\n",
       "  <thead>\n",
       "    <tr style=\"text-align: right;\">\n",
       "      <th></th>\n",
       "      <th>anime_id</th>\n",
       "      <th>name</th>\n",
       "      <th>genre</th>\n",
       "      <th>type</th>\n",
       "      <th>episodes</th>\n",
       "      <th>rating</th>\n",
       "      <th>members</th>\n",
       "      <th>encoded_genre</th>\n",
       "    </tr>\n",
       "  </thead>\n",
       "  <tbody>\n",
       "    <tr>\n",
       "      <th>8142</th>\n",
       "      <td>30617</td>\n",
       "      <td>Animegatari</td>\n",
       "      <td>Comedy</td>\n",
       "      <td>Movie</td>\n",
       "      <td>Unknown</td>\n",
       "      <td>5.36</td>\n",
       "      <td>1308</td>\n",
       "      <td>[0, 0, 0, 1, 0, 0, 0, 0, 0, 0, 0, 0, 0, 0, 0, ...</td>\n",
       "    </tr>\n",
       "    <tr>\n",
       "      <th>10940</th>\n",
       "      <td>33820</td>\n",
       "      <td>Ao Oni The Animation (Movie)</td>\n",
       "      <td>Horror</td>\n",
       "      <td>Movie</td>\n",
       "      <td>Unknown</td>\n",
       "      <td>NaN</td>\n",
       "      <td>1416</td>\n",
       "      <td>[0, 0, 0, 0, 0, 0, 0, 0, 0, 0, 0, 0, 0, 1, 0, ...</td>\n",
       "    </tr>\n",
       "    <tr>\n",
       "      <th>10947</th>\n",
       "      <td>32086</td>\n",
       "      <td>Blame! Movie</td>\n",
       "      <td>Action, Drama, Mecha, Psychological, Sci-Fi, S...</td>\n",
       "      <td>Movie</td>\n",
       "      <td>Unknown</td>\n",
       "      <td>NaN</td>\n",
       "      <td>3251</td>\n",
       "      <td>[1, 0, 0, 0, 0, 0, 1, 0, 0, 0, 0, 0, 0, 0, 0, ...</td>\n",
       "    </tr>\n",
       "    <tr>\n",
       "      <th>10996</th>\n",
       "      <td>33783</td>\n",
       "      <td>Godzilla</td>\n",
       "      <td>Action, Adventure, Fantasy, Sci-Fi</td>\n",
       "      <td>Movie</td>\n",
       "      <td>Unknown</td>\n",
       "      <td>NaN</td>\n",
       "      <td>1022</td>\n",
       "      <td>[1, 1, 0, 0, 0, 0, 0, 0, 1, 0, 0, 0, 0, 0, 0, ...</td>\n",
       "    </tr>\n",
       "  </tbody>\n",
       "</table>\n",
       "</div>"
      ],
      "text/plain": [
       "       anime_id  ...                                      encoded_genre\n",
       "8142      30617  ...  [0, 0, 0, 1, 0, 0, 0, 0, 0, 0, 0, 0, 0, 0, 0, ...\n",
       "10940     33820  ...  [0, 0, 0, 0, 0, 0, 0, 0, 0, 0, 0, 0, 0, 1, 0, ...\n",
       "10947     32086  ...  [1, 0, 0, 0, 0, 0, 1, 0, 0, 0, 0, 0, 0, 0, 0, ...\n",
       "10996     33783  ...  [1, 1, 0, 0, 0, 0, 0, 0, 1, 0, 0, 0, 0, 0, 0, ...\n",
       "\n",
       "[4 rows x 8 columns]"
      ]
     },
     "execution_count": 41,
     "metadata": {
      "tags": []
     },
     "output_type": "execute_result"
    }
   ],
   "source": [
    "anime[(anime['type'] == 'Movie') & (anime['episodes'] == 'Unknown')]"
   ]
  },
  {
   "cell_type": "code",
   "execution_count": null,
   "metadata": {
    "id": "lHyqopI99EIj"
   },
   "outputs": [],
   "source": [
    "TYPE_DICT = {\n",
    "    'Movie'     : [1, 0, 0, 0, 0, 0],\n",
    "    'TV'        : [0, 1, 0, 0, 0, 0],\n",
    "    'OVA'       : [0, 0, 1, 0, 0, 0],\n",
    "    'Special'   : [0, 0, 0, 1, 0, 0],\n",
    "    'Music'     : [0, 0, 0, 0, 1, 0],\n",
    "    'ONA'       : [0, 0, 0, 0, 0, 1],\n",
    "    ''          : [0, 0, 0, 0, 0, 0]\n",
    "}\n",
    "anime['encoded_type'] = anime['type'].fillna('').apply(lambda x: TYPE_DICT[x])"
   ]
  },
  {
   "cell_type": "code",
   "execution_count": null,
   "metadata": {
    "colab": {
     "base_uri": "https://localhost:8080/"
    },
    "executionInfo": {
     "elapsed": 717,
     "status": "ok",
     "timestamp": 1622473855607,
     "user": {
      "displayName": "Ánh Sương 257",
      "photoUrl": "https://lh3.googleusercontent.com/a-/AOh14GhCXmXVzbkkYszV1VAcXSYX8VeICYBoI3IcKUAo4Q=s64",
      "userId": "03472810742863595681"
     },
     "user_tz": -420
    },
    "id": "9PtWXUGH-fk8",
    "outputId": "126e70fa-7a76-4782-d049-72d55bc53a5c"
   },
   "outputs": [
    {
     "data": {
      "text/plain": [
       "0        [1, 0, 0, 0, 0, 0]\n",
       "1        [0, 1, 0, 0, 0, 0]\n",
       "2        [0, 1, 0, 0, 0, 0]\n",
       "3        [0, 1, 0, 0, 0, 0]\n",
       "4        [0, 1, 0, 0, 0, 0]\n",
       "                ...        \n",
       "12289    [0, 0, 1, 0, 0, 0]\n",
       "12290    [0, 0, 1, 0, 0, 0]\n",
       "12291    [0, 0, 1, 0, 0, 0]\n",
       "12292    [0, 0, 1, 0, 0, 0]\n",
       "12293    [1, 0, 0, 0, 0, 0]\n",
       "Name: encoded_type, Length: 12294, dtype: object"
      ]
     },
     "execution_count": 44,
     "metadata": {
      "tags": []
     },
     "output_type": "execute_result"
    }
   ],
   "source": [
    "anime['encoded_type']"
   ]
  },
  {
   "cell_type": "code",
   "execution_count": null,
   "metadata": {
    "id": "02YJ9dcq_Amf"
   },
   "outputs": [],
   "source": [
    "anime['type'] = anime['type'].fillna('')"
   ]
  },
  {
   "cell_type": "code",
   "execution_count": null,
   "metadata": {
    "colab": {
     "base_uri": "https://localhost:8080/"
    },
    "executionInfo": {
     "elapsed": 9,
     "status": "ok",
     "timestamp": 1622473994296,
     "user": {
      "displayName": "Ánh Sương 257",
      "photoUrl": "https://lh3.googleusercontent.com/a-/AOh14GhCXmXVzbkkYszV1VAcXSYX8VeICYBoI3IcKUAo4Q=s64",
      "userId": "03472810742863595681"
     },
     "user_tz": -420
    },
    "id": "vLlvJaXs5-I6",
    "outputId": "26c7de21-cc02-46d8-fa40-7063b261bb35"
   },
   "outputs": [
    {
     "data": {
      "text/plain": [
       "{'All': {'count': 0, 'sum': 0},\n",
       " 'Movie': {'count': 0, 'sum': 0},\n",
       " 'Music': {'count': 0, 'sum': 0},\n",
       " 'ONA': {'count': 0, 'sum': 0},\n",
       " 'OVA': {'count': 0, 'sum': 0},\n",
       " 'Special': {'count': 0, 'sum': 0},\n",
       " 'TV': {'count': 0, 'sum': 0}}"
      ]
     },
     "execution_count": 48,
     "metadata": {
      "tags": []
     },
     "output_type": "execute_result"
    }
   ],
   "source": [
    "s_episodes_by_type = {}\n",
    "for t in anime['type'].unique().tolist():\n",
    "    if t != '':\n",
    "        s_episodes_by_type[t] = {'count': 0, 'sum': 0}\n",
    "s_episodes_by_type['All'] = {'count': 0, 'sum': 0}\n",
    "s_episodes_by_type"
   ]
  },
  {
   "cell_type": "code",
   "execution_count": null,
   "metadata": {
    "colab": {
     "base_uri": "https://localhost:8080/"
    },
    "executionInfo": {
     "elapsed": 1077,
     "status": "ok",
     "timestamp": 1622473997858,
     "user": {
      "displayName": "Ánh Sương 257",
      "photoUrl": "https://lh3.googleusercontent.com/a-/AOh14GhCXmXVzbkkYszV1VAcXSYX8VeICYBoI3IcKUAo4Q=s64",
      "userId": "03472810742863595681"
     },
     "user_tz": -420
    },
    "id": "uLuY7OaY4uWI",
    "outputId": "a14a3f71-d649-4ba7-ade4-f39f95e9d113"
   },
   "outputs": [
    {
     "data": {
      "text/plain": [
       "{'All': {'count': 11954, 'sum': 148021},\n",
       " 'Movie': {'count': 2344, 'sum': 2584},\n",
       " 'Music': {'count': 487, 'sum': 551},\n",
       " 'ONA': {'count': 613, 'sum': 4216},\n",
       " 'OVA': {'count': 3261, 'sum': 7884},\n",
       " 'Special': {'count': 1671, 'sum': 4280},\n",
       " 'TV': {'count': 3578, 'sum': 128506}}"
      ]
     },
     "execution_count": 49,
     "metadata": {
      "tags": []
     },
     "output_type": "execute_result"
    }
   ],
   "source": [
    "for i in range(len(anime)):\n",
    "    if anime['episodes'].iloc[i] != 'Unknown':\n",
    "        s_episodes_by_type['All']['count'] += 1\n",
    "        s_episodes_by_type['All']['sum'] += int(anime['episodes'].iloc[i])\n",
    "        if anime['type'].iloc[i] != '':\n",
    "            s_episodes_by_type[anime['type'].iloc[i]]['count'] += 1\n",
    "            s_episodes_by_type[anime['type'].iloc[i]]['sum'] += int(anime['episodes'].iloc[i])\n",
    "s_episodes_by_type"
   ]
  },
  {
   "cell_type": "code",
   "execution_count": null,
   "metadata": {
    "id": "LHE-FTlp-8F3"
   },
   "outputs": [],
   "source": [
    "def fill_episodes(type_name, episodes):\n",
    "    if episodes == 'Unknown':\n",
    "        if type_name == '':\n",
    "            return float(s_episodes_by_type['All']['sum'] / s_episodes_by_type['All']['count'])\n",
    "        else:\n",
    "            return float(s_episodes_by_type[type_name]['sum'] / s_episodes_by_type[type_name]['count'])\n",
    "    else:\n",
    "        return float(episodes)"
   ]
  },
  {
   "cell_type": "code",
   "execution_count": null,
   "metadata": {
    "id": "U0dDHIsM_MC2"
   },
   "outputs": [],
   "source": [
    "anime['filled_episodes'] = anime.apply(lambda row: fill_episodes(row['type'], row['episodes']), axis=1)"
   ]
  },
  {
   "cell_type": "code",
   "execution_count": null,
   "metadata": {
    "colab": {
     "base_uri": "https://localhost:8080/",
     "height": 590
    },
    "executionInfo": {
     "elapsed": 288,
     "status": "ok",
     "timestamp": 1622474160260,
     "user": {
      "displayName": "Ánh Sương 257",
      "photoUrl": "https://lh3.googleusercontent.com/a-/AOh14GhCXmXVzbkkYszV1VAcXSYX8VeICYBoI3IcKUAo4Q=s64",
      "userId": "03472810742863595681"
     },
     "user_tz": -420
    },
    "id": "0SFodGrD_O-e",
    "outputId": "9b5c3288-429f-4823-f676-747c0646d11f"
   },
   "outputs": [
    {
     "data": {
      "text/html": [
       "<div>\n",
       "<style scoped>\n",
       "    .dataframe tbody tr th:only-of-type {\n",
       "        vertical-align: middle;\n",
       "    }\n",
       "\n",
       "    .dataframe tbody tr th {\n",
       "        vertical-align: top;\n",
       "    }\n",
       "\n",
       "    .dataframe thead th {\n",
       "        text-align: right;\n",
       "    }\n",
       "</style>\n",
       "<table border=\"1\" class=\"dataframe\">\n",
       "  <thead>\n",
       "    <tr style=\"text-align: right;\">\n",
       "      <th></th>\n",
       "      <th>anime_id</th>\n",
       "      <th>name</th>\n",
       "      <th>genre</th>\n",
       "      <th>type</th>\n",
       "      <th>episodes</th>\n",
       "      <th>rating</th>\n",
       "      <th>members</th>\n",
       "      <th>encoded_genre</th>\n",
       "      <th>encoded_type</th>\n",
       "      <th>filled_episodes</th>\n",
       "    </tr>\n",
       "  </thead>\n",
       "  <tbody>\n",
       "    <tr>\n",
       "      <th>0</th>\n",
       "      <td>32281</td>\n",
       "      <td>Kimi no Na wa.</td>\n",
       "      <td>Drama, Romance, School, Supernatural</td>\n",
       "      <td>Movie</td>\n",
       "      <td>1</td>\n",
       "      <td>9.37</td>\n",
       "      <td>200630</td>\n",
       "      <td>[0, 0, 0, 0, 0, 0, 1, 0, 0, 0, 0, 0, 0, 0, 0, ...</td>\n",
       "      <td>[1, 0, 0, 0, 0, 0]</td>\n",
       "      <td>1.0</td>\n",
       "    </tr>\n",
       "    <tr>\n",
       "      <th>1</th>\n",
       "      <td>5114</td>\n",
       "      <td>Fullmetal Alchemist: Brotherhood</td>\n",
       "      <td>Action, Adventure, Drama, Fantasy, Magic, Mili...</td>\n",
       "      <td>TV</td>\n",
       "      <td>64</td>\n",
       "      <td>9.26</td>\n",
       "      <td>793665</td>\n",
       "      <td>[1, 1, 0, 0, 0, 0, 1, 0, 1, 0, 0, 0, 0, 0, 0, ...</td>\n",
       "      <td>[0, 1, 0, 0, 0, 0]</td>\n",
       "      <td>64.0</td>\n",
       "    </tr>\n",
       "    <tr>\n",
       "      <th>2</th>\n",
       "      <td>28977</td>\n",
       "      <td>Gintama°</td>\n",
       "      <td>Action, Comedy, Historical, Parody, Samurai, S...</td>\n",
       "      <td>TV</td>\n",
       "      <td>51</td>\n",
       "      <td>9.25</td>\n",
       "      <td>114262</td>\n",
       "      <td>[1, 0, 0, 1, 0, 0, 0, 0, 0, 0, 0, 0, 1, 0, 0, ...</td>\n",
       "      <td>[0, 1, 0, 0, 0, 0]</td>\n",
       "      <td>51.0</td>\n",
       "    </tr>\n",
       "    <tr>\n",
       "      <th>3</th>\n",
       "      <td>9253</td>\n",
       "      <td>Steins;Gate</td>\n",
       "      <td>Sci-Fi, Thriller</td>\n",
       "      <td>TV</td>\n",
       "      <td>24</td>\n",
       "      <td>9.17</td>\n",
       "      <td>673572</td>\n",
       "      <td>[0, 0, 0, 0, 0, 0, 0, 0, 0, 0, 0, 0, 0, 0, 0, ...</td>\n",
       "      <td>[0, 1, 0, 0, 0, 0]</td>\n",
       "      <td>24.0</td>\n",
       "    </tr>\n",
       "    <tr>\n",
       "      <th>4</th>\n",
       "      <td>9969</td>\n",
       "      <td>Gintama&amp;#039;</td>\n",
       "      <td>Action, Comedy, Historical, Parody, Samurai, S...</td>\n",
       "      <td>TV</td>\n",
       "      <td>51</td>\n",
       "      <td>9.16</td>\n",
       "      <td>151266</td>\n",
       "      <td>[1, 0, 0, 1, 0, 0, 0, 0, 0, 0, 0, 0, 1, 0, 0, ...</td>\n",
       "      <td>[0, 1, 0, 0, 0, 0]</td>\n",
       "      <td>51.0</td>\n",
       "    </tr>\n",
       "    <tr>\n",
       "      <th>...</th>\n",
       "      <td>...</td>\n",
       "      <td>...</td>\n",
       "      <td>...</td>\n",
       "      <td>...</td>\n",
       "      <td>...</td>\n",
       "      <td>...</td>\n",
       "      <td>...</td>\n",
       "      <td>...</td>\n",
       "      <td>...</td>\n",
       "      <td>...</td>\n",
       "    </tr>\n",
       "    <tr>\n",
       "      <th>12289</th>\n",
       "      <td>9316</td>\n",
       "      <td>Toushindai My Lover: Minami tai Mecha-Minami</td>\n",
       "      <td>Hentai</td>\n",
       "      <td>OVA</td>\n",
       "      <td>1</td>\n",
       "      <td>4.15</td>\n",
       "      <td>211</td>\n",
       "      <td>[0, 0, 0, 0, 0, 0, 0, 0, 0, 0, 0, 1, 0, 0, 0, ...</td>\n",
       "      <td>[0, 0, 1, 0, 0, 0]</td>\n",
       "      <td>1.0</td>\n",
       "    </tr>\n",
       "    <tr>\n",
       "      <th>12290</th>\n",
       "      <td>5543</td>\n",
       "      <td>Under World</td>\n",
       "      <td>Hentai</td>\n",
       "      <td>OVA</td>\n",
       "      <td>1</td>\n",
       "      <td>4.28</td>\n",
       "      <td>183</td>\n",
       "      <td>[0, 0, 0, 0, 0, 0, 0, 0, 0, 0, 0, 1, 0, 0, 0, ...</td>\n",
       "      <td>[0, 0, 1, 0, 0, 0]</td>\n",
       "      <td>1.0</td>\n",
       "    </tr>\n",
       "    <tr>\n",
       "      <th>12291</th>\n",
       "      <td>5621</td>\n",
       "      <td>Violence Gekiga David no Hoshi</td>\n",
       "      <td>Hentai</td>\n",
       "      <td>OVA</td>\n",
       "      <td>4</td>\n",
       "      <td>4.88</td>\n",
       "      <td>219</td>\n",
       "      <td>[0, 0, 0, 0, 0, 0, 0, 0, 0, 0, 0, 1, 0, 0, 0, ...</td>\n",
       "      <td>[0, 0, 1, 0, 0, 0]</td>\n",
       "      <td>4.0</td>\n",
       "    </tr>\n",
       "    <tr>\n",
       "      <th>12292</th>\n",
       "      <td>6133</td>\n",
       "      <td>Violence Gekiga Shin David no Hoshi: Inma Dens...</td>\n",
       "      <td>Hentai</td>\n",
       "      <td>OVA</td>\n",
       "      <td>1</td>\n",
       "      <td>4.98</td>\n",
       "      <td>175</td>\n",
       "      <td>[0, 0, 0, 0, 0, 0, 0, 0, 0, 0, 0, 1, 0, 0, 0, ...</td>\n",
       "      <td>[0, 0, 1, 0, 0, 0]</td>\n",
       "      <td>1.0</td>\n",
       "    </tr>\n",
       "    <tr>\n",
       "      <th>12293</th>\n",
       "      <td>26081</td>\n",
       "      <td>Yasuji no Pornorama: Yacchimae!!</td>\n",
       "      <td>Hentai</td>\n",
       "      <td>Movie</td>\n",
       "      <td>1</td>\n",
       "      <td>5.46</td>\n",
       "      <td>142</td>\n",
       "      <td>[0, 0, 0, 0, 0, 0, 0, 0, 0, 0, 0, 1, 0, 0, 0, ...</td>\n",
       "      <td>[1, 0, 0, 0, 0, 0]</td>\n",
       "      <td>1.0</td>\n",
       "    </tr>\n",
       "  </tbody>\n",
       "</table>\n",
       "<p>12294 rows × 10 columns</p>\n",
       "</div>"
      ],
      "text/plain": [
       "       anime_id  ... filled_episodes\n",
       "0         32281  ...             1.0\n",
       "1          5114  ...            64.0\n",
       "2         28977  ...            51.0\n",
       "3          9253  ...            24.0\n",
       "4          9969  ...            51.0\n",
       "...         ...  ...             ...\n",
       "12289      9316  ...             1.0\n",
       "12290      5543  ...             1.0\n",
       "12291      5621  ...             4.0\n",
       "12292      6133  ...             1.0\n",
       "12293     26081  ...             1.0\n",
       "\n",
       "[12294 rows x 10 columns]"
      ]
     },
     "execution_count": 58,
     "metadata": {
      "tags": []
     },
     "output_type": "execute_result"
    }
   ],
   "source": [
    "anime"
   ]
  },
  {
   "cell_type": "code",
   "execution_count": null,
   "metadata": {
    "id": "YXEZ_QFG_Qfn"
   },
   "outputs": [],
   "source": [
    "from sklearn.preprocessing import MinMaxScaler"
   ]
  },
  {
   "cell_type": "code",
   "execution_count": null,
   "metadata": {
    "id": "mQPTIg3i_bEw"
   },
   "outputs": [],
   "source": [
    "scaler1 = MinMaxScaler()\n",
    "anime[['members']] = scaler1.fit_transform(anime[['members']])"
   ]
  },
  {
   "cell_type": "code",
   "execution_count": null,
   "metadata": {
    "id": "6TKloUM4_4kA"
   },
   "outputs": [],
   "source": [
    "scaler2 = MinMaxScaler()\n",
    "anime[['filled_episodes']] = scaler2.fit_transform(anime[['filled_episodes']])"
   ]
  },
  {
   "cell_type": "code",
   "execution_count": null,
   "metadata": {
    "colab": {
     "base_uri": "https://localhost:8080/"
    },
    "executionInfo": {
     "elapsed": 280,
     "status": "ok",
     "timestamp": 1622474236872,
     "user": {
      "displayName": "Ánh Sương 257",
      "photoUrl": "https://lh3.googleusercontent.com/a-/AOh14GhCXmXVzbkkYszV1VAcXSYX8VeICYBoI3IcKUAo4Q=s64",
      "userId": "03472810742863595681"
     },
     "user_tz": -420
    },
    "id": "cDWggSV0__1P",
    "outputId": "1edbdc95-b7ef-4059-bb62-5b9682cee33a"
   },
   "outputs": [
    {
     "data": {
      "text/plain": [
       "0        0.000000\n",
       "1        0.034673\n",
       "2        0.027518\n",
       "3        0.012658\n",
       "4        0.027518\n",
       "           ...   \n",
       "12289    0.000000\n",
       "12290    0.000000\n",
       "12291    0.001651\n",
       "12292    0.000000\n",
       "12293    0.000000\n",
       "Name: filled_episodes, Length: 12294, dtype: float64"
      ]
     },
     "execution_count": 63,
     "metadata": {
      "tags": []
     },
     "output_type": "execute_result"
    }
   ],
   "source": [
    "anime['filled_episodes']"
   ]
  },
  {
   "cell_type": "code",
   "execution_count": null,
   "metadata": {
    "colab": {
     "base_uri": "https://localhost:8080/",
     "height": 570
    },
    "executionInfo": {
     "elapsed": 4,
     "status": "ok",
     "timestamp": 1622474254377,
     "user": {
      "displayName": "Ánh Sương 257",
      "photoUrl": "https://lh3.googleusercontent.com/a-/AOh14GhCXmXVzbkkYszV1VAcXSYX8VeICYBoI3IcKUAo4Q=s64",
      "userId": "03472810742863595681"
     },
     "user_tz": -420
    },
    "id": "V8Y-JO1XAB5M",
    "outputId": "1094da27-7adb-41bc-9099-201192ac8387"
   },
   "outputs": [
    {
     "data": {
      "text/html": [
       "<div>\n",
       "<style scoped>\n",
       "    .dataframe tbody tr th:only-of-type {\n",
       "        vertical-align: middle;\n",
       "    }\n",
       "\n",
       "    .dataframe tbody tr th {\n",
       "        vertical-align: top;\n",
       "    }\n",
       "\n",
       "    .dataframe thead th {\n",
       "        text-align: right;\n",
       "    }\n",
       "</style>\n",
       "<table border=\"1\" class=\"dataframe\">\n",
       "  <thead>\n",
       "    <tr style=\"text-align: right;\">\n",
       "      <th></th>\n",
       "      <th>anime_id</th>\n",
       "      <th>name</th>\n",
       "      <th>genre</th>\n",
       "      <th>type</th>\n",
       "      <th>episodes</th>\n",
       "      <th>rating</th>\n",
       "      <th>members</th>\n",
       "      <th>encoded_genre</th>\n",
       "      <th>encoded_type</th>\n",
       "      <th>filled_episodes</th>\n",
       "    </tr>\n",
       "  </thead>\n",
       "  <tbody>\n",
       "    <tr>\n",
       "      <th>0</th>\n",
       "      <td>32281</td>\n",
       "      <td>Kimi no Na wa.</td>\n",
       "      <td>Drama, Romance, School, Supernatural</td>\n",
       "      <td>Movie</td>\n",
       "      <td>1</td>\n",
       "      <td>9.37</td>\n",
       "      <td>0.197872</td>\n",
       "      <td>[0, 0, 0, 0, 0, 0, 1, 0, 0, 0, 0, 0, 0, 0, 0, ...</td>\n",
       "      <td>[1, 0, 0, 0, 0, 0]</td>\n",
       "      <td>0.000000</td>\n",
       "    </tr>\n",
       "    <tr>\n",
       "      <th>1</th>\n",
       "      <td>5114</td>\n",
       "      <td>Fullmetal Alchemist: Brotherhood</td>\n",
       "      <td>Action, Adventure, Drama, Fantasy, Magic, Mili...</td>\n",
       "      <td>TV</td>\n",
       "      <td>64</td>\n",
       "      <td>9.26</td>\n",
       "      <td>0.782770</td>\n",
       "      <td>[1, 1, 0, 0, 0, 0, 1, 0, 1, 0, 0, 0, 0, 0, 0, ...</td>\n",
       "      <td>[0, 1, 0, 0, 0, 0]</td>\n",
       "      <td>0.034673</td>\n",
       "    </tr>\n",
       "    <tr>\n",
       "      <th>2</th>\n",
       "      <td>28977</td>\n",
       "      <td>Gintama°</td>\n",
       "      <td>Action, Comedy, Historical, Parody, Samurai, S...</td>\n",
       "      <td>TV</td>\n",
       "      <td>51</td>\n",
       "      <td>9.25</td>\n",
       "      <td>0.112689</td>\n",
       "      <td>[1, 0, 0, 1, 0, 0, 0, 0, 0, 0, 0, 0, 1, 0, 0, ...</td>\n",
       "      <td>[0, 1, 0, 0, 0, 0]</td>\n",
       "      <td>0.027518</td>\n",
       "    </tr>\n",
       "    <tr>\n",
       "      <th>3</th>\n",
       "      <td>9253</td>\n",
       "      <td>Steins;Gate</td>\n",
       "      <td>Sci-Fi, Thriller</td>\n",
       "      <td>TV</td>\n",
       "      <td>24</td>\n",
       "      <td>9.17</td>\n",
       "      <td>0.664325</td>\n",
       "      <td>[0, 0, 0, 0, 0, 0, 0, 0, 0, 0, 0, 0, 0, 0, 0, ...</td>\n",
       "      <td>[0, 1, 0, 0, 0, 0]</td>\n",
       "      <td>0.012658</td>\n",
       "    </tr>\n",
       "    <tr>\n",
       "      <th>4</th>\n",
       "      <td>9969</td>\n",
       "      <td>Gintama&amp;#039;</td>\n",
       "      <td>Action, Comedy, Historical, Parody, Samurai, S...</td>\n",
       "      <td>TV</td>\n",
       "      <td>51</td>\n",
       "      <td>9.16</td>\n",
       "      <td>0.149186</td>\n",
       "      <td>[1, 0, 0, 1, 0, 0, 0, 0, 0, 0, 0, 0, 1, 0, 0, ...</td>\n",
       "      <td>[0, 1, 0, 0, 0, 0]</td>\n",
       "      <td>0.027518</td>\n",
       "    </tr>\n",
       "    <tr>\n",
       "      <th>...</th>\n",
       "      <td>...</td>\n",
       "      <td>...</td>\n",
       "      <td>...</td>\n",
       "      <td>...</td>\n",
       "      <td>...</td>\n",
       "      <td>...</td>\n",
       "      <td>...</td>\n",
       "      <td>...</td>\n",
       "      <td>...</td>\n",
       "      <td>...</td>\n",
       "    </tr>\n",
       "    <tr>\n",
       "      <th>12289</th>\n",
       "      <td>9316</td>\n",
       "      <td>Toushindai My Lover: Minami tai Mecha-Minami</td>\n",
       "      <td>Hentai</td>\n",
       "      <td>OVA</td>\n",
       "      <td>1</td>\n",
       "      <td>4.15</td>\n",
       "      <td>0.000203</td>\n",
       "      <td>[0, 0, 0, 0, 0, 0, 0, 0, 0, 0, 0, 1, 0, 0, 0, ...</td>\n",
       "      <td>[0, 0, 1, 0, 0, 0]</td>\n",
       "      <td>0.000000</td>\n",
       "    </tr>\n",
       "    <tr>\n",
       "      <th>12290</th>\n",
       "      <td>5543</td>\n",
       "      <td>Under World</td>\n",
       "      <td>Hentai</td>\n",
       "      <td>OVA</td>\n",
       "      <td>1</td>\n",
       "      <td>4.28</td>\n",
       "      <td>0.000176</td>\n",
       "      <td>[0, 0, 0, 0, 0, 0, 0, 0, 0, 0, 0, 1, 0, 0, 0, ...</td>\n",
       "      <td>[0, 0, 1, 0, 0, 0]</td>\n",
       "      <td>0.000000</td>\n",
       "    </tr>\n",
       "    <tr>\n",
       "      <th>12291</th>\n",
       "      <td>5621</td>\n",
       "      <td>Violence Gekiga David no Hoshi</td>\n",
       "      <td>Hentai</td>\n",
       "      <td>OVA</td>\n",
       "      <td>4</td>\n",
       "      <td>4.88</td>\n",
       "      <td>0.000211</td>\n",
       "      <td>[0, 0, 0, 0, 0, 0, 0, 0, 0, 0, 0, 1, 0, 0, 0, ...</td>\n",
       "      <td>[0, 0, 1, 0, 0, 0]</td>\n",
       "      <td>0.001651</td>\n",
       "    </tr>\n",
       "    <tr>\n",
       "      <th>12292</th>\n",
       "      <td>6133</td>\n",
       "      <td>Violence Gekiga Shin David no Hoshi: Inma Dens...</td>\n",
       "      <td>Hentai</td>\n",
       "      <td>OVA</td>\n",
       "      <td>1</td>\n",
       "      <td>4.98</td>\n",
       "      <td>0.000168</td>\n",
       "      <td>[0, 0, 0, 0, 0, 0, 0, 0, 0, 0, 0, 1, 0, 0, 0, ...</td>\n",
       "      <td>[0, 0, 1, 0, 0, 0]</td>\n",
       "      <td>0.000000</td>\n",
       "    </tr>\n",
       "    <tr>\n",
       "      <th>12293</th>\n",
       "      <td>26081</td>\n",
       "      <td>Yasuji no Pornorama: Yacchimae!!</td>\n",
       "      <td>Hentai</td>\n",
       "      <td>Movie</td>\n",
       "      <td>1</td>\n",
       "      <td>5.46</td>\n",
       "      <td>0.000135</td>\n",
       "      <td>[0, 0, 0, 0, 0, 0, 0, 0, 0, 0, 0, 1, 0, 0, 0, ...</td>\n",
       "      <td>[1, 0, 0, 0, 0, 0]</td>\n",
       "      <td>0.000000</td>\n",
       "    </tr>\n",
       "  </tbody>\n",
       "</table>\n",
       "<p>12294 rows × 10 columns</p>\n",
       "</div>"
      ],
      "text/plain": [
       "       anime_id  ... filled_episodes\n",
       "0         32281  ...        0.000000\n",
       "1          5114  ...        0.034673\n",
       "2         28977  ...        0.027518\n",
       "3          9253  ...        0.012658\n",
       "4          9969  ...        0.027518\n",
       "...         ...  ...             ...\n",
       "12289      9316  ...        0.000000\n",
       "12290      5543  ...        0.000000\n",
       "12291      5621  ...        0.001651\n",
       "12292      6133  ...        0.000000\n",
       "12293     26081  ...        0.000000\n",
       "\n",
       "[12294 rows x 10 columns]"
      ]
     },
     "execution_count": 64,
     "metadata": {
      "tags": []
     },
     "output_type": "execute_result"
    }
   ],
   "source": [
    "anime"
   ]
  },
  {
   "cell_type": "code",
   "execution_count": null,
   "metadata": {
    "id": "C8eb-AoAAGEz"
   },
   "outputs": [],
   "source": [
    "anime = anime[anime['anime_id'].isin(rated_anime_id)]"
   ]
  },
  {
   "cell_type": "code",
   "execution_count": null,
   "metadata": {
    "colab": {
     "base_uri": "https://localhost:8080/",
     "height": 570
    },
    "executionInfo": {
     "elapsed": 275,
     "status": "ok",
     "timestamp": 1622474338134,
     "user": {
      "displayName": "Ánh Sương 257",
      "photoUrl": "https://lh3.googleusercontent.com/a-/AOh14GhCXmXVzbkkYszV1VAcXSYX8VeICYBoI3IcKUAo4Q=s64",
      "userId": "03472810742863595681"
     },
     "user_tz": -420
    },
    "id": "LCP6tZJuAMTN",
    "outputId": "086c45e7-6eeb-4be2-8347-322ee680d964"
   },
   "outputs": [
    {
     "data": {
      "text/html": [
       "<div>\n",
       "<style scoped>\n",
       "    .dataframe tbody tr th:only-of-type {\n",
       "        vertical-align: middle;\n",
       "    }\n",
       "\n",
       "    .dataframe tbody tr th {\n",
       "        vertical-align: top;\n",
       "    }\n",
       "\n",
       "    .dataframe thead th {\n",
       "        text-align: right;\n",
       "    }\n",
       "</style>\n",
       "<table border=\"1\" class=\"dataframe\">\n",
       "  <thead>\n",
       "    <tr style=\"text-align: right;\">\n",
       "      <th></th>\n",
       "      <th>anime_id</th>\n",
       "      <th>name</th>\n",
       "      <th>genre</th>\n",
       "      <th>type</th>\n",
       "      <th>episodes</th>\n",
       "      <th>rating</th>\n",
       "      <th>members</th>\n",
       "      <th>encoded_genre</th>\n",
       "      <th>encoded_type</th>\n",
       "      <th>filled_episodes</th>\n",
       "    </tr>\n",
       "  </thead>\n",
       "  <tbody>\n",
       "    <tr>\n",
       "      <th>0</th>\n",
       "      <td>32281</td>\n",
       "      <td>Kimi no Na wa.</td>\n",
       "      <td>Drama, Romance, School, Supernatural</td>\n",
       "      <td>Movie</td>\n",
       "      <td>1</td>\n",
       "      <td>9.37</td>\n",
       "      <td>0.197872</td>\n",
       "      <td>[0, 0, 0, 0, 0, 0, 1, 0, 0, 0, 0, 0, 0, 0, 0, ...</td>\n",
       "      <td>[1, 0, 0, 0, 0, 0]</td>\n",
       "      <td>0.000000</td>\n",
       "    </tr>\n",
       "    <tr>\n",
       "      <th>1</th>\n",
       "      <td>5114</td>\n",
       "      <td>Fullmetal Alchemist: Brotherhood</td>\n",
       "      <td>Action, Adventure, Drama, Fantasy, Magic, Mili...</td>\n",
       "      <td>TV</td>\n",
       "      <td>64</td>\n",
       "      <td>9.26</td>\n",
       "      <td>0.782770</td>\n",
       "      <td>[1, 1, 0, 0, 0, 0, 1, 0, 1, 0, 0, 0, 0, 0, 0, ...</td>\n",
       "      <td>[0, 1, 0, 0, 0, 0]</td>\n",
       "      <td>0.034673</td>\n",
       "    </tr>\n",
       "    <tr>\n",
       "      <th>2</th>\n",
       "      <td>28977</td>\n",
       "      <td>Gintama°</td>\n",
       "      <td>Action, Comedy, Historical, Parody, Samurai, S...</td>\n",
       "      <td>TV</td>\n",
       "      <td>51</td>\n",
       "      <td>9.25</td>\n",
       "      <td>0.112689</td>\n",
       "      <td>[1, 0, 0, 1, 0, 0, 0, 0, 0, 0, 0, 0, 1, 0, 0, ...</td>\n",
       "      <td>[0, 1, 0, 0, 0, 0]</td>\n",
       "      <td>0.027518</td>\n",
       "    </tr>\n",
       "    <tr>\n",
       "      <th>3</th>\n",
       "      <td>9253</td>\n",
       "      <td>Steins;Gate</td>\n",
       "      <td>Sci-Fi, Thriller</td>\n",
       "      <td>TV</td>\n",
       "      <td>24</td>\n",
       "      <td>9.17</td>\n",
       "      <td>0.664325</td>\n",
       "      <td>[0, 0, 0, 0, 0, 0, 0, 0, 0, 0, 0, 0, 0, 0, 0, ...</td>\n",
       "      <td>[0, 1, 0, 0, 0, 0]</td>\n",
       "      <td>0.012658</td>\n",
       "    </tr>\n",
       "    <tr>\n",
       "      <th>4</th>\n",
       "      <td>9969</td>\n",
       "      <td>Gintama&amp;#039;</td>\n",
       "      <td>Action, Comedy, Historical, Parody, Samurai, S...</td>\n",
       "      <td>TV</td>\n",
       "      <td>51</td>\n",
       "      <td>9.16</td>\n",
       "      <td>0.149186</td>\n",
       "      <td>[1, 0, 0, 1, 0, 0, 0, 0, 0, 0, 0, 0, 1, 0, 0, ...</td>\n",
       "      <td>[0, 1, 0, 0, 0, 0]</td>\n",
       "      <td>0.027518</td>\n",
       "    </tr>\n",
       "    <tr>\n",
       "      <th>...</th>\n",
       "      <td>...</td>\n",
       "      <td>...</td>\n",
       "      <td>...</td>\n",
       "      <td>...</td>\n",
       "      <td>...</td>\n",
       "      <td>...</td>\n",
       "      <td>...</td>\n",
       "      <td>...</td>\n",
       "      <td>...</td>\n",
       "      <td>...</td>\n",
       "    </tr>\n",
       "    <tr>\n",
       "      <th>12289</th>\n",
       "      <td>9316</td>\n",
       "      <td>Toushindai My Lover: Minami tai Mecha-Minami</td>\n",
       "      <td>Hentai</td>\n",
       "      <td>OVA</td>\n",
       "      <td>1</td>\n",
       "      <td>4.15</td>\n",
       "      <td>0.000203</td>\n",
       "      <td>[0, 0, 0, 0, 0, 0, 0, 0, 0, 0, 0, 1, 0, 0, 0, ...</td>\n",
       "      <td>[0, 0, 1, 0, 0, 0]</td>\n",
       "      <td>0.000000</td>\n",
       "    </tr>\n",
       "    <tr>\n",
       "      <th>12290</th>\n",
       "      <td>5543</td>\n",
       "      <td>Under World</td>\n",
       "      <td>Hentai</td>\n",
       "      <td>OVA</td>\n",
       "      <td>1</td>\n",
       "      <td>4.28</td>\n",
       "      <td>0.000176</td>\n",
       "      <td>[0, 0, 0, 0, 0, 0, 0, 0, 0, 0, 0, 1, 0, 0, 0, ...</td>\n",
       "      <td>[0, 0, 1, 0, 0, 0]</td>\n",
       "      <td>0.000000</td>\n",
       "    </tr>\n",
       "    <tr>\n",
       "      <th>12291</th>\n",
       "      <td>5621</td>\n",
       "      <td>Violence Gekiga David no Hoshi</td>\n",
       "      <td>Hentai</td>\n",
       "      <td>OVA</td>\n",
       "      <td>4</td>\n",
       "      <td>4.88</td>\n",
       "      <td>0.000211</td>\n",
       "      <td>[0, 0, 0, 0, 0, 0, 0, 0, 0, 0, 0, 1, 0, 0, 0, ...</td>\n",
       "      <td>[0, 0, 1, 0, 0, 0]</td>\n",
       "      <td>0.001651</td>\n",
       "    </tr>\n",
       "    <tr>\n",
       "      <th>12292</th>\n",
       "      <td>6133</td>\n",
       "      <td>Violence Gekiga Shin David no Hoshi: Inma Dens...</td>\n",
       "      <td>Hentai</td>\n",
       "      <td>OVA</td>\n",
       "      <td>1</td>\n",
       "      <td>4.98</td>\n",
       "      <td>0.000168</td>\n",
       "      <td>[0, 0, 0, 0, 0, 0, 0, 0, 0, 0, 0, 1, 0, 0, 0, ...</td>\n",
       "      <td>[0, 0, 1, 0, 0, 0]</td>\n",
       "      <td>0.000000</td>\n",
       "    </tr>\n",
       "    <tr>\n",
       "      <th>12293</th>\n",
       "      <td>26081</td>\n",
       "      <td>Yasuji no Pornorama: Yacchimae!!</td>\n",
       "      <td>Hentai</td>\n",
       "      <td>Movie</td>\n",
       "      <td>1</td>\n",
       "      <td>5.46</td>\n",
       "      <td>0.000135</td>\n",
       "      <td>[0, 0, 0, 0, 0, 0, 0, 0, 0, 0, 0, 1, 0, 0, 0, ...</td>\n",
       "      <td>[1, 0, 0, 0, 0, 0]</td>\n",
       "      <td>0.000000</td>\n",
       "    </tr>\n",
       "  </tbody>\n",
       "</table>\n",
       "<p>11197 rows × 10 columns</p>\n",
       "</div>"
      ],
      "text/plain": [
       "       anime_id  ... filled_episodes\n",
       "0         32281  ...        0.000000\n",
       "1          5114  ...        0.034673\n",
       "2         28977  ...        0.027518\n",
       "3          9253  ...        0.012658\n",
       "4          9969  ...        0.027518\n",
       "...         ...  ...             ...\n",
       "12289      9316  ...        0.000000\n",
       "12290      5543  ...        0.000000\n",
       "12291      5621  ...        0.001651\n",
       "12292      6133  ...        0.000000\n",
       "12293     26081  ...        0.000000\n",
       "\n",
       "[11197 rows x 10 columns]"
      ]
     },
     "execution_count": 71,
     "metadata": {
      "tags": []
     },
     "output_type": "execute_result"
    }
   ],
   "source": [
    "anime"
   ]
  },
  {
   "cell_type": "code",
   "execution_count": null,
   "metadata": {
    "id": "TjiskFUgAayG"
   },
   "outputs": [],
   "source": [
    "import ast\n",
    "def merge_fields(encoded_genre, encoded_type, filled_episodes, members):\n",
    "    result = encoded_genre + encoded_type + [filled_episodes] + [members]\n",
    "    return result"
   ]
  },
  {
   "cell_type": "code",
   "execution_count": null,
   "metadata": {
    "colab": {
     "base_uri": "https://localhost:8080/"
    },
    "executionInfo": {
     "elapsed": 1090,
     "status": "ok",
     "timestamp": 1622474658487,
     "user": {
      "displayName": "Ánh Sương 257",
      "photoUrl": "https://lh3.googleusercontent.com/a-/AOh14GhCXmXVzbkkYszV1VAcXSYX8VeICYBoI3IcKUAo4Q=s64",
      "userId": "03472810742863595681"
     },
     "user_tz": -420
    },
    "id": "EH9uovZwA6In",
    "outputId": "d6c35862-32d7-429f-8a29-ef1ae56a41ef"
   },
   "outputs": [
    {
     "name": "stderr",
     "output_type": "stream",
     "text": [
      "/usr/local/lib/python3.7/dist-packages/ipykernel_launcher.py:1: SettingWithCopyWarning: \n",
      "A value is trying to be set on a copy of a slice from a DataFrame.\n",
      "Try using .loc[row_indexer,col_indexer] = value instead\n",
      "\n",
      "See the caveats in the documentation: https://pandas.pydata.org/pandas-docs/stable/user_guide/indexing.html#returning-a-view-versus-a-copy\n",
      "  \"\"\"Entry point for launching an IPython kernel.\n"
     ]
    }
   ],
   "source": [
    "anime['long_vector'] = anime.apply(lambda row: merge_fields(row['encoded_genre'], row['encoded_type'], row['filled_episodes'], row['members']), axis=1)"
   ]
  },
  {
   "cell_type": "code",
   "execution_count": null,
   "metadata": {
    "colab": {
     "base_uri": "https://localhost:8080/"
    },
    "executionInfo": {
     "elapsed": 289,
     "status": "ok",
     "timestamp": 1622474698535,
     "user": {
      "displayName": "Ánh Sương 257",
      "photoUrl": "https://lh3.googleusercontent.com/a-/AOh14GhCXmXVzbkkYszV1VAcXSYX8VeICYBoI3IcKUAo4Q=s64",
      "userId": "03472810742863595681"
     },
     "user_tz": -420
    },
    "id": "2jkWWoxVBO_M",
    "outputId": "aa08c940-b559-45bd-d13f-fc01e46e4b3f"
   },
   "outputs": [
    {
     "name": "stderr",
     "output_type": "stream",
     "text": [
      "/usr/local/lib/python3.7/dist-packages/ipykernel_launcher.py:1: SettingWithCopyWarning: \n",
      "A value is trying to be set on a copy of a slice from a DataFrame.\n",
      "Try using .loc[row_indexer,col_indexer] = value instead\n",
      "\n",
      "See the caveats in the documentation: https://pandas.pydata.org/pandas-docs/stable/user_guide/indexing.html#returning-a-view-versus-a-copy\n",
      "  \"\"\"Entry point for launching an IPython kernel.\n"
     ]
    }
   ],
   "source": [
    "anime['short_vector'] = anime['encoded_genre']"
   ]
  },
  {
   "cell_type": "code",
   "execution_count": null,
   "metadata": {
    "id": "AEoy7I9nBaKw"
   },
   "outputs": [],
   "source": [
    "row0 = anime.iloc[0]"
   ]
  },
  {
   "cell_type": "code",
   "execution_count": null,
   "metadata": {
    "colab": {
     "base_uri": "https://localhost:8080/"
    },
    "executionInfo": {
     "elapsed": 487,
     "status": "ok",
     "timestamp": 1622474755425,
     "user": {
      "displayName": "Ánh Sương 257",
      "photoUrl": "https://lh3.googleusercontent.com/a-/AOh14GhCXmXVzbkkYszV1VAcXSYX8VeICYBoI3IcKUAo4Q=s64",
      "userId": "03472810742863595681"
     },
     "user_tz": -420
    },
    "id": "2bLtsVriBa0e",
    "outputId": "77c0326c-0bb9-4150-bce1-ac42c40b133e"
   },
   "outputs": [
    {
     "data": {
      "text/plain": [
       "(43, 51)"
      ]
     },
     "execution_count": 86,
     "metadata": {
      "tags": []
     },
     "output_type": "execute_result"
    }
   ],
   "source": [
    "len(row0['short_vector']), len(row0['long_vector'])"
   ]
  },
  {
   "cell_type": "code",
   "execution_count": null,
   "metadata": {
    "id": "SyChMNKmB7eD"
   },
   "outputs": [],
   "source": [
    "anime[['anime_id', 'short_vector']].to_csv('/content/gdrive/MyDrive/Colab Notebooks/Anime Recommendation System/Data/Encode/short_vector.csv', index=False)"
   ]
  },
  {
   "cell_type": "code",
   "execution_count": null,
   "metadata": {
    "colab": {
     "base_uri": "https://localhost:8080/",
     "height": 402
    },
    "executionInfo": {
     "elapsed": 298,
     "status": "ok",
     "timestamp": 1622474902886,
     "user": {
      "displayName": "Ánh Sương 257",
      "photoUrl": "https://lh3.googleusercontent.com/a-/AOh14GhCXmXVzbkkYszV1VAcXSYX8VeICYBoI3IcKUAo4Q=s64",
      "userId": "03472810742863595681"
     },
     "user_tz": -420
    },
    "id": "qyG9zpxlCLZJ",
    "outputId": "9288f9ed-b149-42ca-c9fa-a342b397cece"
   },
   "outputs": [
    {
     "data": {
      "text/html": [
       "<div>\n",
       "<style scoped>\n",
       "    .dataframe tbody tr th:only-of-type {\n",
       "        vertical-align: middle;\n",
       "    }\n",
       "\n",
       "    .dataframe tbody tr th {\n",
       "        vertical-align: top;\n",
       "    }\n",
       "\n",
       "    .dataframe thead th {\n",
       "        text-align: right;\n",
       "    }\n",
       "</style>\n",
       "<table border=\"1\" class=\"dataframe\">\n",
       "  <thead>\n",
       "    <tr style=\"text-align: right;\">\n",
       "      <th></th>\n",
       "      <th>anime_id</th>\n",
       "      <th>short_vector</th>\n",
       "    </tr>\n",
       "  </thead>\n",
       "  <tbody>\n",
       "    <tr>\n",
       "      <th>0</th>\n",
       "      <td>32281</td>\n",
       "      <td>[0, 0, 0, 0, 0, 0, 1, 0, 0, 0, 0, 0, 0, 0, 0, ...</td>\n",
       "    </tr>\n",
       "    <tr>\n",
       "      <th>1</th>\n",
       "      <td>5114</td>\n",
       "      <td>[1, 1, 0, 0, 0, 0, 1, 0, 1, 0, 0, 0, 0, 0, 0, ...</td>\n",
       "    </tr>\n",
       "    <tr>\n",
       "      <th>2</th>\n",
       "      <td>28977</td>\n",
       "      <td>[1, 0, 0, 1, 0, 0, 0, 0, 0, 0, 0, 0, 1, 0, 0, ...</td>\n",
       "    </tr>\n",
       "    <tr>\n",
       "      <th>3</th>\n",
       "      <td>9253</td>\n",
       "      <td>[0, 0, 0, 0, 0, 0, 0, 0, 0, 0, 0, 0, 0, 0, 0, ...</td>\n",
       "    </tr>\n",
       "    <tr>\n",
       "      <th>4</th>\n",
       "      <td>9969</td>\n",
       "      <td>[1, 0, 0, 1, 0, 0, 0, 0, 0, 0, 0, 0, 1, 0, 0, ...</td>\n",
       "    </tr>\n",
       "    <tr>\n",
       "      <th>...</th>\n",
       "      <td>...</td>\n",
       "      <td>...</td>\n",
       "    </tr>\n",
       "    <tr>\n",
       "      <th>11192</th>\n",
       "      <td>9316</td>\n",
       "      <td>[0, 0, 0, 0, 0, 0, 0, 0, 0, 0, 0, 1, 0, 0, 0, ...</td>\n",
       "    </tr>\n",
       "    <tr>\n",
       "      <th>11193</th>\n",
       "      <td>5543</td>\n",
       "      <td>[0, 0, 0, 0, 0, 0, 0, 0, 0, 0, 0, 1, 0, 0, 0, ...</td>\n",
       "    </tr>\n",
       "    <tr>\n",
       "      <th>11194</th>\n",
       "      <td>5621</td>\n",
       "      <td>[0, 0, 0, 0, 0, 0, 0, 0, 0, 0, 0, 1, 0, 0, 0, ...</td>\n",
       "    </tr>\n",
       "    <tr>\n",
       "      <th>11195</th>\n",
       "      <td>6133</td>\n",
       "      <td>[0, 0, 0, 0, 0, 0, 0, 0, 0, 0, 0, 1, 0, 0, 0, ...</td>\n",
       "    </tr>\n",
       "    <tr>\n",
       "      <th>11196</th>\n",
       "      <td>26081</td>\n",
       "      <td>[0, 0, 0, 0, 0, 0, 0, 0, 0, 0, 0, 1, 0, 0, 0, ...</td>\n",
       "    </tr>\n",
       "  </tbody>\n",
       "</table>\n",
       "<p>11197 rows × 2 columns</p>\n",
       "</div>"
      ],
      "text/plain": [
       "       anime_id                                       short_vector\n",
       "0         32281  [0, 0, 0, 0, 0, 0, 1, 0, 0, 0, 0, 0, 0, 0, 0, ...\n",
       "1          5114  [1, 1, 0, 0, 0, 0, 1, 0, 1, 0, 0, 0, 0, 0, 0, ...\n",
       "2         28977  [1, 0, 0, 1, 0, 0, 0, 0, 0, 0, 0, 0, 1, 0, 0, ...\n",
       "3          9253  [0, 0, 0, 0, 0, 0, 0, 0, 0, 0, 0, 0, 0, 0, 0, ...\n",
       "4          9969  [1, 0, 0, 1, 0, 0, 0, 0, 0, 0, 0, 0, 1, 0, 0, ...\n",
       "...         ...                                                ...\n",
       "11192      9316  [0, 0, 0, 0, 0, 0, 0, 0, 0, 0, 0, 1, 0, 0, 0, ...\n",
       "11193      5543  [0, 0, 0, 0, 0, 0, 0, 0, 0, 0, 0, 1, 0, 0, 0, ...\n",
       "11194      5621  [0, 0, 0, 0, 0, 0, 0, 0, 0, 0, 0, 1, 0, 0, 0, ...\n",
       "11195      6133  [0, 0, 0, 0, 0, 0, 0, 0, 0, 0, 0, 1, 0, 0, 0, ...\n",
       "11196     26081  [0, 0, 0, 0, 0, 0, 0, 0, 0, 0, 0, 1, 0, 0, 0, ...\n",
       "\n",
       "[11197 rows x 2 columns]"
      ]
     },
     "execution_count": 92,
     "metadata": {
      "tags": []
     },
     "output_type": "execute_result"
    }
   ],
   "source": [
    "pd.read_csv('/content/gdrive/MyDrive/Colab Notebooks/Anime Recommendation System/Data/Encode/short_vector.csv')"
   ]
  },
  {
   "cell_type": "code",
   "execution_count": null,
   "metadata": {
    "id": "7ldFQb4ECkoV"
   },
   "outputs": [],
   "source": [
    "anime[['anime_id', 'long_vector']].to_csv('/content/gdrive/MyDrive/Colab Notebooks/Anime Recommendation System/Data/Encode/long_vector.csv', index=False)"
   ]
  },
  {
   "cell_type": "code",
   "execution_count": null,
   "metadata": {
    "colab": {
     "base_uri": "https://localhost:8080/",
     "height": 402
    },
    "executionInfo": {
     "elapsed": 282,
     "status": "ok",
     "timestamp": 1622474943713,
     "user": {
      "displayName": "Ánh Sương 257",
      "photoUrl": "https://lh3.googleusercontent.com/a-/AOh14GhCXmXVzbkkYszV1VAcXSYX8VeICYBoI3IcKUAo4Q=s64",
      "userId": "03472810742863595681"
     },
     "user_tz": -420
    },
    "id": "aNOA8qNGCppQ",
    "outputId": "125c1fd9-9ebd-4bcd-f1ba-9704ddd51c34"
   },
   "outputs": [
    {
     "data": {
      "text/html": [
       "<div>\n",
       "<style scoped>\n",
       "    .dataframe tbody tr th:only-of-type {\n",
       "        vertical-align: middle;\n",
       "    }\n",
       "\n",
       "    .dataframe tbody tr th {\n",
       "        vertical-align: top;\n",
       "    }\n",
       "\n",
       "    .dataframe thead th {\n",
       "        text-align: right;\n",
       "    }\n",
       "</style>\n",
       "<table border=\"1\" class=\"dataframe\">\n",
       "  <thead>\n",
       "    <tr style=\"text-align: right;\">\n",
       "      <th></th>\n",
       "      <th>anime_id</th>\n",
       "      <th>long_vector</th>\n",
       "    </tr>\n",
       "  </thead>\n",
       "  <tbody>\n",
       "    <tr>\n",
       "      <th>0</th>\n",
       "      <td>32281</td>\n",
       "      <td>[0, 0, 0, 0, 0, 0, 1, 0, 0, 0, 0, 0, 0, 0, 0, ...</td>\n",
       "    </tr>\n",
       "    <tr>\n",
       "      <th>1</th>\n",
       "      <td>5114</td>\n",
       "      <td>[1, 1, 0, 0, 0, 0, 1, 0, 1, 0, 0, 0, 0, 0, 0, ...</td>\n",
       "    </tr>\n",
       "    <tr>\n",
       "      <th>2</th>\n",
       "      <td>28977</td>\n",
       "      <td>[1, 0, 0, 1, 0, 0, 0, 0, 0, 0, 0, 0, 1, 0, 0, ...</td>\n",
       "    </tr>\n",
       "    <tr>\n",
       "      <th>3</th>\n",
       "      <td>9253</td>\n",
       "      <td>[0, 0, 0, 0, 0, 0, 0, 0, 0, 0, 0, 0, 0, 0, 0, ...</td>\n",
       "    </tr>\n",
       "    <tr>\n",
       "      <th>4</th>\n",
       "      <td>9969</td>\n",
       "      <td>[1, 0, 0, 1, 0, 0, 0, 0, 0, 0, 0, 0, 1, 0, 0, ...</td>\n",
       "    </tr>\n",
       "    <tr>\n",
       "      <th>...</th>\n",
       "      <td>...</td>\n",
       "      <td>...</td>\n",
       "    </tr>\n",
       "    <tr>\n",
       "      <th>11192</th>\n",
       "      <td>9316</td>\n",
       "      <td>[0, 0, 0, 0, 0, 0, 0, 0, 0, 0, 0, 1, 0, 0, 0, ...</td>\n",
       "    </tr>\n",
       "    <tr>\n",
       "      <th>11193</th>\n",
       "      <td>5543</td>\n",
       "      <td>[0, 0, 0, 0, 0, 0, 0, 0, 0, 0, 0, 1, 0, 0, 0, ...</td>\n",
       "    </tr>\n",
       "    <tr>\n",
       "      <th>11194</th>\n",
       "      <td>5621</td>\n",
       "      <td>[0, 0, 0, 0, 0, 0, 0, 0, 0, 0, 0, 1, 0, 0, 0, ...</td>\n",
       "    </tr>\n",
       "    <tr>\n",
       "      <th>11195</th>\n",
       "      <td>6133</td>\n",
       "      <td>[0, 0, 0, 0, 0, 0, 0, 0, 0, 0, 0, 1, 0, 0, 0, ...</td>\n",
       "    </tr>\n",
       "    <tr>\n",
       "      <th>11196</th>\n",
       "      <td>26081</td>\n",
       "      <td>[0, 0, 0, 0, 0, 0, 0, 0, 0, 0, 0, 1, 0, 0, 0, ...</td>\n",
       "    </tr>\n",
       "  </tbody>\n",
       "</table>\n",
       "<p>11197 rows × 2 columns</p>\n",
       "</div>"
      ],
      "text/plain": [
       "       anime_id                                        long_vector\n",
       "0         32281  [0, 0, 0, 0, 0, 0, 1, 0, 0, 0, 0, 0, 0, 0, 0, ...\n",
       "1          5114  [1, 1, 0, 0, 0, 0, 1, 0, 1, 0, 0, 0, 0, 0, 0, ...\n",
       "2         28977  [1, 0, 0, 1, 0, 0, 0, 0, 0, 0, 0, 0, 1, 0, 0, ...\n",
       "3          9253  [0, 0, 0, 0, 0, 0, 0, 0, 0, 0, 0, 0, 0, 0, 0, ...\n",
       "4          9969  [1, 0, 0, 1, 0, 0, 0, 0, 0, 0, 0, 0, 1, 0, 0, ...\n",
       "...         ...                                                ...\n",
       "11192      9316  [0, 0, 0, 0, 0, 0, 0, 0, 0, 0, 0, 1, 0, 0, 0, ...\n",
       "11193      5543  [0, 0, 0, 0, 0, 0, 0, 0, 0, 0, 0, 1, 0, 0, 0, ...\n",
       "11194      5621  [0, 0, 0, 0, 0, 0, 0, 0, 0, 0, 0, 1, 0, 0, 0, ...\n",
       "11195      6133  [0, 0, 0, 0, 0, 0, 0, 0, 0, 0, 0, 1, 0, 0, 0, ...\n",
       "11196     26081  [0, 0, 0, 0, 0, 0, 0, 0, 0, 0, 0, 1, 0, 0, 0, ...\n",
       "\n",
       "[11197 rows x 2 columns]"
      ]
     },
     "execution_count": 95,
     "metadata": {
      "tags": []
     },
     "output_type": "execute_result"
    }
   ],
   "source": [
    "pd.read_csv('/content/gdrive/MyDrive/Colab Notebooks/Anime Recommendation System/Data/Encode/long_vector.csv')"
   ]
  },
  {
   "cell_type": "code",
   "execution_count": null,
   "metadata": {
    "id": "DQba9sxsCsBP"
   },
   "outputs": [],
   "source": [
    "rating.to_csv('/content/gdrive/MyDrive/Colab Notebooks/Anime Recommendation System/Data/Rating/enable_rating.csv', index=False)"
   ]
  },
  {
   "cell_type": "code",
   "execution_count": null,
   "metadata": {
    "id": "p4USaIY_oGmf"
   },
   "outputs": [],
   "source": []
  }
 ],
 "metadata": {
  "colab": {
   "authorship_tag": "ABX9TyMhiu6ZrfTcBKcefDjdSsN9",
   "collapsed_sections": [],
   "name": "Encode.ipynb",
   "provenance": []
  },
  "kernelspec": {
   "display_name": "Python 3",
   "language": "python",
   "name": "python3"
  },
  "language_info": {
   "codemirror_mode": {
    "name": "ipython",
    "version": 3
   },
   "file_extension": ".py",
   "mimetype": "text/x-python",
   "name": "python",
   "nbconvert_exporter": "python",
   "pygments_lexer": "ipython3",
   "version": "3.8.5"
  }
 },
 "nbformat": 4,
 "nbformat_minor": 1
}
