{
 "cells": [
  {
   "cell_type": "code",
   "execution_count": 1,
   "metadata": {
    "executionInfo": {
     "elapsed": 307,
     "status": "ok",
     "timestamp": 1622625819278,
     "user": {
      "displayName": "Ánh Sương 257",
      "photoUrl": "https://lh3.googleusercontent.com/a-/AOh14GhCXmXVzbkkYszV1VAcXSYX8VeICYBoI3IcKUAo4Q=s64",
      "userId": "03472810742863595681"
     },
     "user_tz": -420
    },
    "id": "LKxe3cfzB49G"
   },
   "outputs": [],
   "source": [
    "import numpy as np\n",
    "import pandas as pd\n",
    "import matplotlib.pyplot as plt\n",
    "from matplotlib.pyplot import figure"
   ]
  },
  {
   "cell_type": "code",
   "execution_count": 4,
   "metadata": {
    "executionInfo": {
     "elapsed": 3888,
     "status": "ok",
     "timestamp": 1622625931493,
     "user": {
      "displayName": "Ánh Sương 257",
      "photoUrl": "https://lh3.googleusercontent.com/a-/AOh14GhCXmXVzbkkYszV1VAcXSYX8VeICYBoI3IcKUAo4Q=s64",
      "userId": "03472810742863595681"
     },
     "user_tz": -420
    },
    "id": "lmtQwm4aCRej"
   },
   "outputs": [],
   "source": [
    "anime = pd.read_csv('/content/drive/MyDrive/Colab Notebooks/Anime Recommendation System/Data/Raw/anime.csv')"
   ]
  },
  {
   "cell_type": "code",
   "execution_count": 10,
   "metadata": {
    "executionInfo": {
     "elapsed": 276,
     "status": "ok",
     "timestamp": 1622626163911,
     "user": {
      "displayName": "Ánh Sương 257",
      "photoUrl": "https://lh3.googleusercontent.com/a-/AOh14GhCXmXVzbkkYszV1VAcXSYX8VeICYBoI3IcKUAo4Q=s64",
      "userId": "03472810742863595681"
     },
     "user_tz": -420
    },
    "id": "8jxsM8S1DiRH"
   },
   "outputs": [],
   "source": [
    "anime['type'] = anime['type'].fillna('')"
   ]
  },
  {
   "cell_type": "code",
   "execution_count": 12,
   "metadata": {
    "executionInfo": {
     "elapsed": 267,
     "status": "ok",
     "timestamp": 1622626193217,
     "user": {
      "displayName": "Ánh Sương 257",
      "photoUrl": "https://lh3.googleusercontent.com/a-/AOh14GhCXmXVzbkkYszV1VAcXSYX8VeICYBoI3IcKUAo4Q=s64",
      "userId": "03472810742863595681"
     },
     "user_tz": -420
    },
    "id": "17sfa5YZCYil"
   },
   "outputs": [],
   "source": [
    "type_count = anime[['anime_id', 'type']].groupby(['type']).agg(['count'])"
   ]
  },
  {
   "cell_type": "code",
   "execution_count": 23,
   "metadata": {
    "executionInfo": {
     "elapsed": 3,
     "status": "ok",
     "timestamp": 1622626334769,
     "user": {
      "displayName": "Ánh Sương 257",
      "photoUrl": "https://lh3.googleusercontent.com/a-/AOh14GhCXmXVzbkkYszV1VAcXSYX8VeICYBoI3IcKUAo4Q=s64",
      "userId": "03472810742863595681"
     },
     "user_tz": -420
    },
    "id": "G8I8RjbkCt13"
   },
   "outputs": [],
   "source": [
    "number_of_type = type_count['anime_id']['count'].values"
   ]
  },
  {
   "cell_type": "code",
   "execution_count": 21,
   "metadata": {
    "colab": {
     "base_uri": "https://localhost:8080/",
     "height": 284
    },
    "executionInfo": {
     "elapsed": 281,
     "status": "ok",
     "timestamp": 1622626273083,
     "user": {
      "displayName": "Ánh Sương 257",
      "photoUrl": "https://lh3.googleusercontent.com/a-/AOh14GhCXmXVzbkkYszV1VAcXSYX8VeICYBoI3IcKUAo4Q=s64",
      "userId": "03472810742863595681"
     },
     "user_tz": -420
    },
    "id": "HlHi1WMJDY7e",
    "outputId": "f5916c4b-ee23-421f-8851-c315a6188c92"
   },
   "outputs": [
    {
     "data": {
      "text/html": [
       "<div>\n",
       "<style scoped>\n",
       "    .dataframe tbody tr th:only-of-type {\n",
       "        vertical-align: middle;\n",
       "    }\n",
       "\n",
       "    .dataframe tbody tr th {\n",
       "        vertical-align: top;\n",
       "    }\n",
       "\n",
       "    .dataframe thead th {\n",
       "        text-align: right;\n",
       "    }\n",
       "</style>\n",
       "<table border=\"1\" class=\"dataframe\">\n",
       "  <thead>\n",
       "    <tr style=\"text-align: right;\">\n",
       "      <th></th>\n",
       "      <th>count</th>\n",
       "    </tr>\n",
       "    <tr>\n",
       "      <th>type</th>\n",
       "      <th></th>\n",
       "    </tr>\n",
       "  </thead>\n",
       "  <tbody>\n",
       "    <tr>\n",
       "      <th></th>\n",
       "      <td>25</td>\n",
       "    </tr>\n",
       "    <tr>\n",
       "      <th>Movie</th>\n",
       "      <td>2348</td>\n",
       "    </tr>\n",
       "    <tr>\n",
       "      <th>Music</th>\n",
       "      <td>488</td>\n",
       "    </tr>\n",
       "    <tr>\n",
       "      <th>ONA</th>\n",
       "      <td>659</td>\n",
       "    </tr>\n",
       "    <tr>\n",
       "      <th>OVA</th>\n",
       "      <td>3311</td>\n",
       "    </tr>\n",
       "    <tr>\n",
       "      <th>Special</th>\n",
       "      <td>1676</td>\n",
       "    </tr>\n",
       "    <tr>\n",
       "      <th>TV</th>\n",
       "      <td>3787</td>\n",
       "    </tr>\n",
       "  </tbody>\n",
       "</table>\n",
       "</div>"
      ],
      "text/plain": [
       "         count\n",
       "type          \n",
       "            25\n",
       "Movie     2348\n",
       "Music      488\n",
       "ONA        659\n",
       "OVA       3311\n",
       "Special   1676\n",
       "TV        3787"
      ]
     },
     "execution_count": 21,
     "metadata": {
      "tags": []
     },
     "output_type": "execute_result"
    }
   ],
   "source": [
    "type_count['anime_id']"
   ]
  },
  {
   "cell_type": "code",
   "execution_count": 95,
   "metadata": {
    "executionInfo": {
     "elapsed": 4,
     "status": "ok",
     "timestamp": 1622628899562,
     "user": {
      "displayName": "Ánh Sương 257",
      "photoUrl": "https://lh3.googleusercontent.com/a-/AOh14GhCXmXVzbkkYszV1VAcXSYX8VeICYBoI3IcKUAo4Q=s64",
      "userId": "03472810742863595681"
     },
     "user_tz": -420
    },
    "id": "USeVxeARD-tC"
   },
   "outputs": [],
   "source": [
    "types = type_count.index"
   ]
  },
  {
   "cell_type": "code",
   "execution_count": 96,
   "metadata": {
    "colab": {
     "base_uri": "https://localhost:8080/",
     "height": 427
    },
    "executionInfo": {
     "elapsed": 281,
     "status": "ok",
     "timestamp": 1622628902474,
     "user": {
      "displayName": "Ánh Sương 257",
      "photoUrl": "https://lh3.googleusercontent.com/a-/AOh14GhCXmXVzbkkYszV1VAcXSYX8VeICYBoI3IcKUAo4Q=s64",
      "userId": "03472810742863595681"
     },
     "user_tz": -420
    },
    "id": "_dH245iLEExU",
    "outputId": "79007664-79b9-4a16-dabe-dbf5f55416cd"
   },
   "outputs": [
    {
     "data": {
      "image/png": "[encoded data removed]",
      "text/plain": [
       "<Figure size 640x480 with 1 Axes>"
      ]
     },
     "metadata": {
      "needs_background": "light",
      "tags": []
     },
     "output_type": "display_data"
    }
   ],
   "source": [
    "figure(figsize=(8, 6), dpi=80)\n",
    "plt.bar(types, number_of_type)\n",
    "plt.xlabel(\"Type\")\n",
    "plt.ylabel(\"Number of animes\")\n",
    "plt.show()"
   ]
  },
  {
   "cell_type": "code",
   "execution_count": 30,
   "metadata": {
    "executionInfo": {
     "elapsed": 264,
     "status": "ok",
     "timestamp": 1622626782204,
     "user": {
      "displayName": "Ánh Sương 257",
      "photoUrl": "https://lh3.googleusercontent.com/a-/AOh14GhCXmXVzbkkYszV1VAcXSYX8VeICYBoI3IcKUAo4Q=s64",
      "userId": "03472810742863595681"
     },
     "user_tz": -420
    },
    "id": "_2PWF2xmE6nK"
   },
   "outputs": [],
   "source": [
    "anime['genre'] = anime['genre'].fillna('')"
   ]
  },
  {
   "cell_type": "code",
   "execution_count": 31,
   "metadata": {
    "colab": {
     "base_uri": "https://localhost:8080/"
    },
    "executionInfo": {
     "elapsed": 381,
     "status": "ok",
     "timestamp": 1622626800364,
     "user": {
      "displayName": "Ánh Sương 257",
      "photoUrl": "https://lh3.googleusercontent.com/a-/AOh14GhCXmXVzbkkYszV1VAcXSYX8VeICYBoI3IcKUAo4Q=s64",
      "userId": "03472810742863595681"
     },
     "user_tz": -420
    },
    "id": "wm3JECLnF8kh",
    "outputId": "50a8db8e-73a7-4990-b7f9-20c4e86b6e72"
   },
   "outputs": [
    {
     "name": "stdout",
     "output_type": "stream",
     "text": [
      "<class 'set'>\n",
      "{'Action': 0, 'Adventure': 1, 'Cars': 2, 'Comedy': 3, 'Dementia': 4, 'Demons': 5, 'Drama': 6, 'Ecchi': 7, 'Fantasy': 8, 'Game': 9, 'Harem': 10, 'Hentai': 11, 'Historical': 12, 'Horror': 13, 'Josei': 14, 'Kids': 15, 'Magic': 16, 'Martial Arts': 17, 'Mecha': 18, 'Military': 19, 'Music': 20, 'Mystery': 21, 'Parody': 22, 'Police': 23, 'Psychological': 24, 'Romance': 25, 'Samurai': 26, 'School': 27, 'Sci-Fi': 28, 'Seinen': 29, 'Shoujo': 30, 'Shoujo Ai': 31, 'Shounen': 32, 'Shounen Ai': 33, 'Slice of Life': 34, 'Space': 35, 'Sports': 36, 'Super Power': 37, 'Supernatural': 38, 'Thriller': 39, 'Vampire': 40, 'Yaoi': 41, 'Yuri': 42}\n",
      "<class 'list'>\n",
      "Index(['anime_id', 'name', 'genre', 'type', 'episodes', 'rating', 'members',\n",
      "       'encoded_genre'],\n",
      "      dtype='object')\n",
      "       anime_id                                      encoded_genre\n",
      "0         32281  [0, 0, 0, 0, 0, 0, 1, 0, 0, 0, 0, 0, 0, 0, 0, ...\n",
      "1          5114  [1, 1, 0, 0, 0, 0, 1, 0, 1, 0, 0, 0, 0, 0, 0, ...\n",
      "2         28977  [1, 0, 0, 1, 0, 0, 0, 0, 0, 0, 0, 0, 1, 0, 0, ...\n",
      "3          9253  [0, 0, 0, 0, 0, 0, 0, 0, 0, 0, 0, 0, 0, 0, 0, ...\n",
      "4          9969  [1, 0, 0, 1, 0, 0, 0, 0, 0, 0, 0, 0, 1, 0, 0, ...\n",
      "...         ...                                                ...\n",
      "12289      9316  [0, 0, 0, 0, 0, 0, 0, 0, 0, 0, 0, 1, 0, 0, 0, ...\n",
      "12290      5543  [0, 0, 0, 0, 0, 0, 0, 0, 0, 0, 0, 1, 0, 0, 0, ...\n",
      "12291      5621  [0, 0, 0, 0, 0, 0, 0, 0, 0, 0, 0, 1, 0, 0, 0, ...\n",
      "12292      6133  [0, 0, 0, 0, 0, 0, 0, 0, 0, 0, 0, 1, 0, 0, 0, ...\n",
      "12293     26081  [0, 0, 0, 0, 0, 0, 0, 0, 0, 0, 0, 1, 0, 0, 0, ...\n",
      "\n",
      "[12294 rows x 2 columns]\n"
     ]
    }
   ],
   "source": [
    "genre_set = set()\n",
    "for genres in anime['genre']:\n",
    "    genres = genres.split(', ')\n",
    "    genre_set.update(genres)\n",
    "genre_set.remove('')\n",
    "print(type(genre_set))\n",
    "genre_list = sorted(genre_set)\n",
    "\n",
    "genre_index_dict = {}\n",
    "for i in range(len(genre_list)):\n",
    "    genre_index_dict[genre_list[i]] = i\n",
    "print(genre_index_dict)\n",
    "print(type(genre_list))\n",
    "\n",
    "\n",
    "def encode_genre(genres):\n",
    "    result = np.asarray([0] * len(genre_list))\n",
    "    if genres == '':\n",
    "        return result\n",
    "    genres = genres.split(', ')\n",
    "    for genre in genres:\n",
    "        result[genre_index_dict[genre]] = 1\n",
    "    return result\n",
    "\n",
    "\n",
    "anime['encoded_genre'] = anime['genre'].apply(lambda x: list(encode_genre(x)))\n",
    "print(anime.columns)\n",
    "print(anime[['anime_id', 'encoded_genre']])"
   ]
  },
  {
   "cell_type": "code",
   "execution_count": 36,
   "metadata": {
    "executionInfo": {
     "elapsed": 268,
     "status": "ok",
     "timestamp": 1622626908821,
     "user": {
      "displayName": "Ánh Sương 257",
      "photoUrl": "https://lh3.googleusercontent.com/a-/AOh14GhCXmXVzbkkYszV1VAcXSYX8VeICYBoI3IcKUAo4Q=s64",
      "userId": "03472810742863595681"
     },
     "user_tz": -420
    },
    "id": "GDGvpTKdGA-i"
   },
   "outputs": [],
   "source": [
    "engen_mat = np.array([np.array(x, dtype=np.int32) for x in anime['encoded_genre'].values])"
   ]
  },
  {
   "cell_type": "code",
   "execution_count": 41,
   "metadata": {
    "executionInfo": {
     "elapsed": 326,
     "status": "ok",
     "timestamp": 1622626952576,
     "user": {
      "displayName": "Ánh Sương 257",
      "photoUrl": "https://lh3.googleusercontent.com/a-/AOh14GhCXmXVzbkkYszV1VAcXSYX8VeICYBoI3IcKUAo4Q=s64",
      "userId": "03472810742863595681"
     },
     "user_tz": -420
    },
    "id": "Yg18U5PsGKPx"
   },
   "outputs": [],
   "source": [
    "number_of_genre = engen_mat.sum(axis=0)"
   ]
  },
  {
   "cell_type": "code",
   "execution_count": 121,
   "metadata": {
    "colab": {
     "base_uri": "https://localhost:8080/"
    },
    "executionInfo": {
     "elapsed": 272,
     "status": "ok",
     "timestamp": 1622629750478,
     "user": {
      "displayName": "Ánh Sương 257",
      "photoUrl": "https://lh3.googleusercontent.com/a-/AOh14GhCXmXVzbkkYszV1VAcXSYX8VeICYBoI3IcKUAo4Q=s64",
      "userId": "03472810742863595681"
     },
     "user_tz": -420
    },
    "id": "PZD10kySQorV",
    "outputId": "b984b608-7cfe-4b86-d110-c9e660cb1dad"
   },
   "outputs": [
    {
     "data": {
      "text/plain": [
       "843.8139534883721"
      ]
     },
     "execution_count": 121,
     "metadata": {
      "tags": []
     },
     "output_type": "execute_result"
    }
   ],
   "source": [
    "np.average(number_of_genre)"
   ]
  },
  {
   "cell_type": "code",
   "execution_count": null,
   "metadata": {
    "id": "yMf-YDJ8RGDP"
   },
   "outputs": [],
   "source": [
    "genre_list"
   ]
  },
  {
   "cell_type": "code",
   "execution_count": 123,
   "metadata": {
    "colab": {
     "base_uri": "https://localhost:8080/"
    },
    "executionInfo": {
     "elapsed": 320,
     "status": "ok",
     "timestamp": 1622629798964,
     "user": {
      "displayName": "Ánh Sương 257",
      "photoUrl": "https://lh3.googleusercontent.com/a-/AOh14GhCXmXVzbkkYszV1VAcXSYX8VeICYBoI3IcKUAo4Q=s64",
      "userId": "03472810742863595681"
     },
     "user_tz": -420
    },
    "id": "G6uRlgc8RZXA",
    "outputId": "32e10866-bf5d-443a-b29f-dd3f7974fc68"
   },
   "outputs": [
    {
     "data": {
      "text/plain": [
       "(62, 8)"
      ]
     },
     "execution_count": 123,
     "metadata": {
      "tags": []
     },
     "output_type": "execute_result"
    }
   ],
   "source": [
    "anime[anime['genre'] == ''].shape"
   ]
  },
  {
   "cell_type": "code",
   "execution_count": 75,
   "metadata": {
    "colab": {
     "base_uri": "https://localhost:8080/",
     "height": 852
    },
    "executionInfo": {
     "elapsed": 1081,
     "status": "ok",
     "timestamp": 1622628520390,
     "user": {
      "displayName": "Ánh Sương 257",
      "photoUrl": "https://lh3.googleusercontent.com/a-/AOh14GhCXmXVzbkkYszV1VAcXSYX8VeICYBoI3IcKUAo4Q=s64",
      "userId": "03472810742863595681"
     },
     "user_tz": -420
    },
    "id": "NLDxzdeEGi9K",
    "outputId": "04118244-1cba-4213-98fc-806024c26337"
   },
   "outputs": [
    {
     "data": {
      "image/png": "[encoded data removed]",
      "text/plain": [
       "<Figure size 1280x960 with 1 Axes>"
      ]
     },
     "metadata": {
      "needs_background": "light",
      "tags": []
     },
     "output_type": "display_data"
    }
   ],
   "source": [
    "figure(figsize=(16, 12), dpi=80)\n",
    "plt.bar(genre_list, number_of_genre)\n",
    "plt.xticks(rotation=50)\n",
    "plt.xlabel(\"Genre\", fontsize=18)\n",
    "plt.ylabel(\"Number of animes\", fontsize=18)\n",
    "plt.show()"
   ]
  },
  {
   "cell_type": "code",
   "execution_count": 62,
   "metadata": {
    "executionInfo": {
     "elapsed": 442,
     "status": "ok",
     "timestamp": 1622627599628,
     "user": {
      "displayName": "Ánh Sương 257",
      "photoUrl": "https://lh3.googleusercontent.com/a-/AOh14GhCXmXVzbkkYszV1VAcXSYX8VeICYBoI3IcKUAo4Q=s64",
      "userId": "03472810742863595681"
     },
     "user_tz": -420
    },
    "id": "J_k3dQvsHRxX"
   },
   "outputs": [],
   "source": [
    "mean_rating = anime[anime['rating'].notna()]['rating'].values"
   ]
  },
  {
   "cell_type": "code",
   "execution_count": 142,
   "metadata": {
    "colab": {
     "base_uri": "https://localhost:8080/"
    },
    "executionInfo": {
     "elapsed": 263,
     "status": "ok",
     "timestamp": 1622630945551,
     "user": {
      "displayName": "Ánh Sương 257",
      "photoUrl": "https://lh3.googleusercontent.com/a-/AOh14GhCXmXVzbkkYszV1VAcXSYX8VeICYBoI3IcKUAo4Q=s64",
      "userId": "03472810742863595681"
     },
     "user_tz": -420
    },
    "id": "QKsygPq1Vkud",
    "outputId": "5d50d185-445b-4fe3-a0d1-5ee74d4b135e"
   },
   "outputs": [
    {
     "data": {
      "text/plain": [
       "(1.67, 10.0)"
      ]
     },
     "execution_count": 142,
     "metadata": {
      "tags": []
     },
     "output_type": "execute_result"
    }
   ],
   "source": [
    "mean_rating.min(), mean_rating.max()"
   ]
  },
  {
   "cell_type": "code",
   "execution_count": 152,
   "metadata": {
    "executionInfo": {
     "elapsed": 268,
     "status": "ok",
     "timestamp": 1622631643127,
     "user": {
      "displayName": "Ánh Sương 257",
      "photoUrl": "https://lh3.googleusercontent.com/a-/AOh14GhCXmXVzbkkYszV1VAcXSYX8VeICYBoI3IcKUAo4Q=s64",
      "userId": "03472810742863595681"
     },
     "user_tz": -420
    },
    "id": "crT9iHT6YRsp"
   },
   "outputs": [],
   "source": [
    "anime['int_episodes'] = anime['episodes'].apply(lambda x: int(x) if x != 'Unknown' else 2000)"
   ]
  },
  {
   "cell_type": "code",
   "execution_count": 155,
   "metadata": {
    "colab": {
     "base_uri": "https://localhost:8080/"
    },
    "executionInfo": {
     "elapsed": 264,
     "status": "ok",
     "timestamp": 1622631682623,
     "user": {
      "displayName": "Ánh Sương 257",
      "photoUrl": "https://lh3.googleusercontent.com/a-/AOh14GhCXmXVzbkkYszV1VAcXSYX8VeICYBoI3IcKUAo4Q=s64",
      "userId": "03472810742863595681"
     },
     "user_tz": -420
    },
    "id": "gaVTWqDfYgOQ",
    "outputId": "655ecf01-ed7c-4ade-d4a5-4037d882325e"
   },
   "outputs": [
    {
     "data": {
      "text/plain": [
       "0.9217504473727022"
      ]
     },
     "execution_count": 155,
     "metadata": {
      "tags": []
     },
     "output_type": "execute_result"
    }
   ],
   "source": [
    "anime[anime['int_episodes'] <= 50].shape[0] / anime.shape[0]"
   ]
  },
  {
   "cell_type": "code",
   "execution_count": 159,
   "metadata": {
    "colab": {
     "base_uri": "https://localhost:8080/"
    },
    "executionInfo": {
     "elapsed": 264,
     "status": "ok",
     "timestamp": 1622631818915,
     "user": {
      "displayName": "Ánh Sương 257",
      "photoUrl": "https://lh3.googleusercontent.com/a-/AOh14GhCXmXVzbkkYszV1VAcXSYX8VeICYBoI3IcKUAo4Q=s64",
      "userId": "03472810742863595681"
     },
     "user_tz": -420
    },
    "id": "fe9P8nMEYwX0",
    "outputId": "3922d209-7c2e-49a0-992a-c8cd97908279"
   },
   "outputs": [
    {
     "name": "stderr",
     "output_type": "stream",
     "text": [
      "/usr/local/lib/python3.7/dist-packages/ipykernel_launcher.py:1: UserWarning: Boolean Series key will be reindexed to match DataFrame index.\n",
      "  \"\"\"Entry point for launching an IPython kernel.\n"
     ]
    },
    {
     "data": {
      "text/plain": [
       "0.89075972018871"
      ]
     },
     "execution_count": 159,
     "metadata": {
      "tags": []
     },
     "output_type": "execute_result"
    }
   ],
   "source": [
    "anime[anime['rating'].notna()][(anime['rating'] >= 4.5) & (anime['rating'] <= 8.0)].shape[0] / anime.shape[0]"
   ]
  },
  {
   "cell_type": "code",
   "execution_count": 144,
   "metadata": {
    "colab": {
     "base_uri": "https://localhost:8080/",
     "height": 77
    },
    "executionInfo": {
     "elapsed": 373,
     "status": "ok",
     "timestamp": 1622631015351,
     "user": {
      "displayName": "Ánh Sương 257",
      "photoUrl": "https://lh3.googleusercontent.com/a-/AOh14GhCXmXVzbkkYszV1VAcXSYX8VeICYBoI3IcKUAo4Q=s64",
      "userId": "03472810742863595681"
     },
     "user_tz": -420
    },
    "id": "3f5oxlCiWB_F",
    "outputId": "b586a332-525b-48dd-c952-f2a32fe700e8"
   },
   "outputs": [
    {
     "data": {
      "text/html": [
       "<div>\n",
       "<style scoped>\n",
       "    .dataframe tbody tr th:only-of-type {\n",
       "        vertical-align: middle;\n",
       "    }\n",
       "\n",
       "    .dataframe tbody tr th {\n",
       "        vertical-align: top;\n",
       "    }\n",
       "\n",
       "    .dataframe thead th {\n",
       "        text-align: right;\n",
       "    }\n",
       "</style>\n",
       "<table border=\"1\" class=\"dataframe\">\n",
       "  <thead>\n",
       "    <tr style=\"text-align: right;\">\n",
       "      <th></th>\n",
       "      <th>anime_id</th>\n",
       "      <th>name</th>\n",
       "      <th>genre</th>\n",
       "      <th>type</th>\n",
       "      <th>episodes</th>\n",
       "      <th>rating</th>\n",
       "      <th>members</th>\n",
       "      <th>encoded_genre</th>\n",
       "    </tr>\n",
       "  </thead>\n",
       "  <tbody>\n",
       "    <tr>\n",
       "      <th>6296</th>\n",
       "      <td>12393</td>\n",
       "      <td>Oyako Club</td>\n",
       "      <td>Comedy, Slice of Life</td>\n",
       "      <td>TV</td>\n",
       "      <td>1818</td>\n",
       "      <td>6.18</td>\n",
       "      <td>160</td>\n",
       "      <td>[0, 0, 0, 1, 0, 0, 0, 0, 0, 0, 0, 0, 0, 0, 0, ...</td>\n",
       "    </tr>\n",
       "  </tbody>\n",
       "</table>\n",
       "</div>"
      ],
      "text/plain": [
       "      anime_id  ...                                      encoded_genre\n",
       "6296     12393  ...  [0, 0, 0, 1, 0, 0, 0, 0, 0, 0, 0, 0, 0, 0, 0, ...\n",
       "\n",
       "[1 rows x 8 columns]"
      ]
     },
     "execution_count": 144,
     "metadata": {
      "tags": []
     },
     "output_type": "execute_result"
    }
   ],
   "source": [
    "anime[anime['episodes'] == '1818']"
   ]
  },
  {
   "cell_type": "code",
   "execution_count": 161,
   "metadata": {
    "colab": {
     "base_uri": "https://localhost:8080/"
    },
    "executionInfo": {
     "elapsed": 281,
     "status": "ok",
     "timestamp": 1622631882413,
     "user": {
      "displayName": "Ánh Sương 257",
      "photoUrl": "https://lh3.googleusercontent.com/a-/AOh14GhCXmXVzbkkYszV1VAcXSYX8VeICYBoI3IcKUAo4Q=s64",
      "userId": "03472810742863595681"
     },
     "user_tz": -420
    },
    "id": "u7-HqojJZTwa",
    "outputId": "241b51e5-6e65-4267-beef-b2a5b9758c81"
   },
   "outputs": [
    {
     "data": {
      "text/plain": [
       "0.9077598828696926"
      ]
     },
     "execution_count": 161,
     "metadata": {
      "tags": []
     },
     "output_type": "execute_result"
    }
   ],
   "source": [
    "anime[anime['members'] <= 50000].shape[0] / anime.shape[0]"
   ]
  },
  {
   "cell_type": "code",
   "execution_count": 147,
   "metadata": {
    "colab": {
     "base_uri": "https://localhost:8080/",
     "height": 106
    },
    "executionInfo": {
     "elapsed": 264,
     "status": "ok",
     "timestamp": 1622631110983,
     "user": {
      "displayName": "Ánh Sương 257",
      "photoUrl": "https://lh3.googleusercontent.com/a-/AOh14GhCXmXVzbkkYszV1VAcXSYX8VeICYBoI3IcKUAo4Q=s64",
      "userId": "03472810742863595681"
     },
     "user_tz": -420
    },
    "id": "r2opiPWlWOsC",
    "outputId": "542b8ed1-0a22-4865-d782-5f5844670b86"
   },
   "outputs": [
    {
     "data": {
      "text/html": [
       "<div>\n",
       "<style scoped>\n",
       "    .dataframe tbody tr th:only-of-type {\n",
       "        vertical-align: middle;\n",
       "    }\n",
       "\n",
       "    .dataframe tbody tr th {\n",
       "        vertical-align: top;\n",
       "    }\n",
       "\n",
       "    .dataframe thead th {\n",
       "        text-align: right;\n",
       "    }\n",
       "</style>\n",
       "<table border=\"1\" class=\"dataframe\">\n",
       "  <thead>\n",
       "    <tr style=\"text-align: right;\">\n",
       "      <th></th>\n",
       "      <th>anime_id</th>\n",
       "      <th>name</th>\n",
       "      <th>genre</th>\n",
       "      <th>type</th>\n",
       "      <th>episodes</th>\n",
       "      <th>rating</th>\n",
       "      <th>members</th>\n",
       "      <th>encoded_genre</th>\n",
       "    </tr>\n",
       "  </thead>\n",
       "  <tbody>\n",
       "    <tr>\n",
       "      <th>9991</th>\n",
       "      <td>34476</td>\n",
       "      <td>Platonic Chain: Ansatsu Jikkouchuu</td>\n",
       "      <td>Sci-Fi, Slice of Life</td>\n",
       "      <td>Special</td>\n",
       "      <td>1</td>\n",
       "      <td>1.67</td>\n",
       "      <td>51</td>\n",
       "      <td>[0, 0, 0, 0, 0, 0, 0, 0, 0, 0, 0, 0, 0, 0, 0, ...</td>\n",
       "    </tr>\n",
       "    <tr>\n",
       "      <th>10464</th>\n",
       "      <td>33662</td>\n",
       "      <td>Taka no Tsume 8: Yoshida-kun no X-Files</td>\n",
       "      <td>Comedy, Parody</td>\n",
       "      <td>Movie</td>\n",
       "      <td>1</td>\n",
       "      <td>10.00</td>\n",
       "      <td>13</td>\n",
       "      <td>[0, 0, 0, 1, 0, 0, 0, 0, 0, 0, 0, 0, 0, 0, 0, ...</td>\n",
       "    </tr>\n",
       "  </tbody>\n",
       "</table>\n",
       "</div>"
      ],
      "text/plain": [
       "       anime_id  ...                                      encoded_genre\n",
       "9991      34476  ...  [0, 0, 0, 0, 0, 0, 0, 0, 0, 0, 0, 0, 0, 0, 0, ...\n",
       "10464     33662  ...  [0, 0, 0, 1, 0, 0, 0, 0, 0, 0, 0, 0, 0, 0, 0, ...\n",
       "\n",
       "[2 rows x 8 columns]"
      ]
     },
     "execution_count": 147,
     "metadata": {
      "tags": []
     },
     "output_type": "execute_result"
    }
   ],
   "source": [
    "anime[anime['rating'].isin([1.67, 10.0])]"
   ]
  },
  {
   "cell_type": "code",
   "execution_count": 148,
   "metadata": {
    "colab": {
     "base_uri": "https://localhost:8080/",
     "height": 430
    },
    "executionInfo": {
     "elapsed": 297,
     "status": "ok",
     "timestamp": 1622631140258,
     "user": {
      "displayName": "Ánh Sương 257",
      "photoUrl": "https://lh3.googleusercontent.com/a-/AOh14GhCXmXVzbkkYszV1VAcXSYX8VeICYBoI3IcKUAo4Q=s64",
      "userId": "03472810742863595681"
     },
     "user_tz": -420
    },
    "id": "RZQ03ggUIw2Y",
    "outputId": "9780d6d7-133a-4e9a-eb6c-3ed07c90c6c6"
   },
   "outputs": [
    {
     "data": {
      "image/png": "[encoded data removed]",
      "text/plain": [
       "<Figure size 640x480 with 1 Axes>"
      ]
     },
     "metadata": {
      "needs_background": "light",
      "tags": []
     },
     "output_type": "display_data"
    }
   ],
   "source": [
    "figure(figsize=(8, 6), dpi=80)\n",
    "plt.xlabel(\"Mean rating\", fontsize=12)\n",
    "plt.hist(mean_rating, bins=50)\n",
    "plt.show()"
   ]
  },
  {
   "cell_type": "code",
   "execution_count": 69,
   "metadata": {
    "colab": {
     "base_uri": "https://localhost:8080/"
    },
    "executionInfo": {
     "elapsed": 367,
     "status": "ok",
     "timestamp": 1622628079307,
     "user": {
      "displayName": "Ánh Sương 257",
      "photoUrl": "https://lh3.googleusercontent.com/a-/AOh14GhCXmXVzbkkYszV1VAcXSYX8VeICYBoI3IcKUAo4Q=s64",
      "userId": "03472810742863595681"
     },
     "user_tz": -420
    },
    "id": "xEeyI7DZJdBu",
    "outputId": "f122f4f3-49dc-4df0-ff7e-9b9118b9d198"
   },
   "outputs": [
    {
     "data": {
      "text/plain": [
       "(230, 8)"
      ]
     },
     "execution_count": 69,
     "metadata": {
      "tags": []
     },
     "output_type": "execute_result"
    }
   ],
   "source": [
    "anime[anime['rating'].isna()].shape"
   ]
  },
  {
   "cell_type": "code",
   "execution_count": 149,
   "metadata": {
    "colab": {
     "base_uri": "https://localhost:8080/"
    },
    "executionInfo": {
     "elapsed": 270,
     "status": "ok",
     "timestamp": 1622631299283,
     "user": {
      "displayName": "Ánh Sương 257",
      "photoUrl": "https://lh3.googleusercontent.com/a-/AOh14GhCXmXVzbkkYszV1VAcXSYX8VeICYBoI3IcKUAo4Q=s64",
      "userId": "03472810742863595681"
     },
     "user_tz": -420
    },
    "id": "ApMbPwSqXIvI",
    "outputId": "5fe336f7-811c-483b-ab39-d2d4cbb0b4c5"
   },
   "outputs": [
    {
     "data": {
      "text/plain": [
       "(5, 1013917)"
      ]
     },
     "execution_count": 149,
     "metadata": {
      "tags": []
     },
     "output_type": "execute_result"
    }
   ],
   "source": [
    "members.min(), members.max()"
   ]
  },
  {
   "cell_type": "code",
   "execution_count": 151,
   "metadata": {
    "colab": {
     "base_uri": "https://localhost:8080/",
     "height": 140
    },
    "executionInfo": {
     "elapsed": 270,
     "status": "ok",
     "timestamp": 1622631359735,
     "user": {
      "displayName": "Ánh Sương 257",
      "photoUrl": "https://lh3.googleusercontent.com/a-/AOh14GhCXmXVzbkkYszV1VAcXSYX8VeICYBoI3IcKUAo4Q=s64",
      "userId": "03472810742863595681"
     },
     "user_tz": -420
    },
    "id": "jbWI2IG1XVLc",
    "outputId": "45642af9-4072-4585-d023-4313f02974a0"
   },
   "outputs": [
    {
     "data": {
      "text/html": [
       "<div>\n",
       "<style scoped>\n",
       "    .dataframe tbody tr th:only-of-type {\n",
       "        vertical-align: middle;\n",
       "    }\n",
       "\n",
       "    .dataframe tbody tr th {\n",
       "        vertical-align: top;\n",
       "    }\n",
       "\n",
       "    .dataframe thead th {\n",
       "        text-align: right;\n",
       "    }\n",
       "</style>\n",
       "<table border=\"1\" class=\"dataframe\">\n",
       "  <thead>\n",
       "    <tr style=\"text-align: right;\">\n",
       "      <th></th>\n",
       "      <th>anime_id</th>\n",
       "      <th>name</th>\n",
       "      <th>genre</th>\n",
       "      <th>type</th>\n",
       "      <th>episodes</th>\n",
       "      <th>rating</th>\n",
       "      <th>members</th>\n",
       "      <th>encoded_genre</th>\n",
       "    </tr>\n",
       "  </thead>\n",
       "  <tbody>\n",
       "    <tr>\n",
       "      <th>40</th>\n",
       "      <td>1535</td>\n",
       "      <td>Death Note</td>\n",
       "      <td>Mystery, Police, Psychological, Supernatural, ...</td>\n",
       "      <td>TV</td>\n",
       "      <td>37</td>\n",
       "      <td>8.71</td>\n",
       "      <td>1013917</td>\n",
       "      <td>[0, 0, 0, 0, 0, 0, 0, 0, 0, 0, 0, 0, 0, 0, 0, ...</td>\n",
       "    </tr>\n",
       "    <tr>\n",
       "      <th>10997</th>\n",
       "      <td>34527</td>\n",
       "      <td>Gou-chan. Moko to Chinjuu no Mori no Nakama-tachi</td>\n",
       "      <td>Adventure, Kids</td>\n",
       "      <td>Movie</td>\n",
       "      <td>1</td>\n",
       "      <td>NaN</td>\n",
       "      <td>5</td>\n",
       "      <td>[0, 1, 0, 0, 0, 0, 0, 0, 0, 0, 0, 0, 0, 0, 0, ...</td>\n",
       "    </tr>\n",
       "  </tbody>\n",
       "</table>\n",
       "</div>"
      ],
      "text/plain": [
       "       anime_id  ...                                      encoded_genre\n",
       "40         1535  ...  [0, 0, 0, 0, 0, 0, 0, 0, 0, 0, 0, 0, 0, 0, 0, ...\n",
       "10997     34527  ...  [0, 1, 0, 0, 0, 0, 0, 0, 0, 0, 0, 0, 0, 0, 0, ...\n",
       "\n",
       "[2 rows x 8 columns]"
      ]
     },
     "execution_count": 151,
     "metadata": {
      "tags": []
     },
     "output_type": "execute_result"
    }
   ],
   "source": [
    "anime[anime['members'].isin([5, 1013917])]"
   ]
  },
  {
   "cell_type": "code",
   "execution_count": 74,
   "metadata": {
    "colab": {
     "base_uri": "https://localhost:8080/",
     "height": 799
    },
    "executionInfo": {
     "elapsed": 752,
     "status": "ok",
     "timestamp": 1622628497068,
     "user": {
      "displayName": "Ánh Sương 257",
      "photoUrl": "https://lh3.googleusercontent.com/a-/AOh14GhCXmXVzbkkYszV1VAcXSYX8VeICYBoI3IcKUAo4Q=s64",
      "userId": "03472810742863595681"
     },
     "user_tz": -420
    },
    "id": "hhF3H-fjJHBb",
    "outputId": "637c6ec8-a14e-4565-a71e-88f318c32ea4"
   },
   "outputs": [
    {
     "data": {
      "image/png": "[encoded data removed]",
      "text/plain": [
       "<Figure size 1280x960 with 1 Axes>"
      ]
     },
     "metadata": {
      "needs_background": "light",
      "tags": []
     },
     "output_type": "display_data"
    }
   ],
   "source": [
    "members = anime['members'].values\n",
    "figure(figsize=(16, 12), dpi=80)\n",
    "plt.xlabel(\"Members\", fontsize=18)\n",
    "plt.hist(members, bins=100)\n",
    "plt.show()"
   ]
  },
  {
   "cell_type": "code",
   "execution_count": 81,
   "metadata": {
    "executionInfo": {
     "elapsed": 1809,
     "status": "ok",
     "timestamp": 1622628682604,
     "user": {
      "displayName": "Ánh Sương 257",
      "photoUrl": "https://lh3.googleusercontent.com/a-/AOh14GhCXmXVzbkkYszV1VAcXSYX8VeICYBoI3IcKUAo4Q=s64",
      "userId": "03472810742863595681"
     },
     "user_tz": -420
    },
    "id": "tfp_FnhuLSCw"
   },
   "outputs": [],
   "source": [
    "rating = pd.read_csv('/content/drive/MyDrive/Colab Notebooks/Anime Recommendation System/Data/Raw/rating.csv')"
   ]
  },
  {
   "cell_type": "code",
   "execution_count": 82,
   "metadata": {
    "executionInfo": {
     "elapsed": 275,
     "status": "ok",
     "timestamp": 1622628684530,
     "user": {
      "displayName": "Ánh Sương 257",
      "photoUrl": "https://lh3.googleusercontent.com/a-/AOh14GhCXmXVzbkkYszV1VAcXSYX8VeICYBoI3IcKUAo4Q=s64",
      "userId": "03472810742863595681"
     },
     "user_tz": -420
    },
    "id": "lbuebk1fMz4y"
   },
   "outputs": [],
   "source": [
    "rate_count = rating[['user_id', 'anime_id']].groupby(['user_id']).agg(['count'])"
   ]
  },
  {
   "cell_type": "code",
   "execution_count": 87,
   "metadata": {
    "executionInfo": {
     "elapsed": 261,
     "status": "ok",
     "timestamp": 1622628746310,
     "user": {
      "displayName": "Ánh Sương 257",
      "photoUrl": "https://lh3.googleusercontent.com/a-/AOh14GhCXmXVzbkkYszV1VAcXSYX8VeICYBoI3IcKUAo4Q=s64",
      "userId": "03472810742863595681"
     },
     "user_tz": -420
    },
    "id": "UfEnZz9-M0YX"
   },
   "outputs": [],
   "source": [
    "number_of_rate = rate_count['anime_id']['count'].values"
   ]
  },
  {
   "cell_type": "code",
   "execution_count": 89,
   "metadata": {
    "colab": {
     "base_uri": "https://localhost:8080/",
     "height": 617
    },
    "executionInfo": {
     "elapsed": 819,
     "status": "ok",
     "timestamp": 1622628789105,
     "user": {
      "displayName": "Ánh Sương 257",
      "photoUrl": "https://lh3.googleusercontent.com/a-/AOh14GhCXmXVzbkkYszV1VAcXSYX8VeICYBoI3IcKUAo4Q=s64",
      "userId": "03472810742863595681"
     },
     "user_tz": -420
    },
    "id": "skeE4og1NGz8",
    "outputId": "ee4da7c9-3f4a-40e3-86bf-40ed5b007a78"
   },
   "outputs": [
    {
     "data": {
      "image/png": "[encoded data removed]",
      "text/plain": [
       "<Figure size 960x720 with 1 Axes>"
      ]
     },
     "metadata": {
      "needs_background": "light",
      "tags": []
     },
     "output_type": "display_data"
    }
   ],
   "source": [
    "figure(figsize=(12, 9), dpi=80)\n",
    "plt.xlabel(\"Rating times\", fontsize=18)\n",
    "plt.hist(number_of_rate, bins=100)\n",
    "plt.show()"
   ]
  },
  {
   "cell_type": "code",
   "execution_count": 173,
   "metadata": {
    "colab": {
     "base_uri": "https://localhost:8080/"
    },
    "executionInfo": {
     "elapsed": 282,
     "status": "ok",
     "timestamp": 1622632424842,
     "user": {
      "displayName": "Ánh Sương 257",
      "photoUrl": "https://lh3.googleusercontent.com/a-/AOh14GhCXmXVzbkkYszV1VAcXSYX8VeICYBoI3IcKUAo4Q=s64",
      "userId": "03472810742863595681"
     },
     "user_tz": -420
    },
    "id": "NCP7ecXxa6YB",
    "outputId": "9a35ba44-bb02-40d0-abab-00df9d3a9cc7"
   },
   "outputs": [
    {
     "data": {
      "text/plain": [
       "0.9219206964565054"
      ]
     },
     "execution_count": 173,
     "metadata": {
      "tags": []
     },
     "output_type": "execute_result"
    }
   ],
   "source": [
    "rate_count_1 = rate_count['anime_id']\n",
    "rate_count_1[rate_count_1['count'] <= 300].shape[0] / rate_count_1.shape[0]"
   ]
  },
  {
   "cell_type": "code",
   "execution_count": 162,
   "metadata": {
    "colab": {
     "base_uri": "https://localhost:8080/"
    },
    "executionInfo": {
     "elapsed": 314,
     "status": "ok",
     "timestamp": 1622632063211,
     "user": {
      "displayName": "Ánh Sương 257",
      "photoUrl": "https://lh3.googleusercontent.com/a-/AOh14GhCXmXVzbkkYszV1VAcXSYX8VeICYBoI3IcKUAo4Q=s64",
      "userId": "03472810742863595681"
     },
     "user_tz": -420
    },
    "id": "4QDNVryJNX3H",
    "outputId": "4c710105-2d9d-43e0-eb87-bd4197ba291b"
   },
   "outputs": [
    {
     "data": {
      "text/plain": [
       "(1, 10227, 106.28765558049378)"
      ]
     },
     "execution_count": 162,
     "metadata": {
      "tags": []
     },
     "output_type": "execute_result"
    }
   ],
   "source": [
    "number_of_rate.min(), number_of_rate.max(), np.average(number_of_rate)"
   ]
  },
  {
   "cell_type": "code",
   "execution_count": 91,
   "metadata": {
    "executionInfo": {
     "elapsed": 282,
     "status": "ok",
     "timestamp": 1622628848801,
     "user": {
      "displayName": "Ánh Sương 257",
      "photoUrl": "https://lh3.googleusercontent.com/a-/AOh14GhCXmXVzbkkYszV1VAcXSYX8VeICYBoI3IcKUAo4Q=s64",
      "userId": "03472810742863595681"
     },
     "user_tz": -420
    },
    "id": "E2YjsiqgNreq"
   },
   "outputs": [],
   "source": [
    "be_rated_count = rating[['user_id', 'anime_id']].groupby(['anime_id']).agg(['count'])"
   ]
  },
  {
   "cell_type": "code",
   "execution_count": 177,
   "metadata": {
    "colab": {
     "base_uri": "https://localhost:8080/",
     "height": 106
    },
    "executionInfo": {
     "elapsed": 279,
     "status": "ok",
     "timestamp": 1622632653030,
     "user": {
      "displayName": "Ánh Sương 257",
      "photoUrl": "https://lh3.googleusercontent.com/a-/AOh14GhCXmXVzbkkYszV1VAcXSYX8VeICYBoI3IcKUAo4Q=s64",
      "userId": "03472810742863595681"
     },
     "user_tz": -420
    },
    "id": "G90A-QUObzW-",
    "outputId": "a82efeee-9543-4a4b-c00b-f9c8539418ea"
   },
   "outputs": [
    {
     "data": {
      "text/html": [
       "<div>\n",
       "<style scoped>\n",
       "    .dataframe tbody tr th:only-of-type {\n",
       "        vertical-align: middle;\n",
       "    }\n",
       "\n",
       "    .dataframe tbody tr th {\n",
       "        vertical-align: top;\n",
       "    }\n",
       "\n",
       "    .dataframe thead th {\n",
       "        text-align: right;\n",
       "    }\n",
       "</style>\n",
       "<table border=\"1\" class=\"dataframe\">\n",
       "  <thead>\n",
       "    <tr style=\"text-align: right;\">\n",
       "      <th></th>\n",
       "      <th>count</th>\n",
       "    </tr>\n",
       "    <tr>\n",
       "      <th>anime_id</th>\n",
       "      <th></th>\n",
       "    </tr>\n",
       "  </thead>\n",
       "  <tbody>\n",
       "    <tr>\n",
       "      <th>1535</th>\n",
       "      <td>39340</td>\n",
       "    </tr>\n",
       "  </tbody>\n",
       "</table>\n",
       "</div>"
      ],
      "text/plain": [
       "          count\n",
       "anime_id       \n",
       "1535      39340"
      ]
     },
     "execution_count": 177,
     "metadata": {
      "tags": []
     },
     "output_type": "execute_result"
    }
   ],
   "source": [
    "be_rated_count['user_id'][be_rated_count['user_id']['count'] == 39340]"
   ]
  },
  {
   "cell_type": "code",
   "execution_count": 180,
   "metadata": {
    "colab": {
     "base_uri": "https://localhost:8080/",
     "height": 94
    },
    "executionInfo": {
     "elapsed": 268,
     "status": "ok",
     "timestamp": 1622632689967,
     "user": {
      "displayName": "Ánh Sương 257",
      "photoUrl": "https://lh3.googleusercontent.com/a-/AOh14GhCXmXVzbkkYszV1VAcXSYX8VeICYBoI3IcKUAo4Q=s64",
      "userId": "03472810742863595681"
     },
     "user_tz": -420
    },
    "id": "nV4Md_Z9cXUf",
    "outputId": "3d6b2b59-e043-42f8-e06c-d249c56f4469"
   },
   "outputs": [
    {
     "data": {
      "text/html": [
       "<div>\n",
       "<style scoped>\n",
       "    .dataframe tbody tr th:only-of-type {\n",
       "        vertical-align: middle;\n",
       "    }\n",
       "\n",
       "    .dataframe tbody tr th {\n",
       "        vertical-align: top;\n",
       "    }\n",
       "\n",
       "    .dataframe thead th {\n",
       "        text-align: right;\n",
       "    }\n",
       "</style>\n",
       "<table border=\"1\" class=\"dataframe\">\n",
       "  <thead>\n",
       "    <tr style=\"text-align: right;\">\n",
       "      <th></th>\n",
       "      <th>anime_id</th>\n",
       "      <th>name</th>\n",
       "      <th>genre</th>\n",
       "      <th>type</th>\n",
       "      <th>episodes</th>\n",
       "      <th>rating</th>\n",
       "      <th>members</th>\n",
       "      <th>encoded_genre</th>\n",
       "      <th>int_episodes</th>\n",
       "    </tr>\n",
       "  </thead>\n",
       "  <tbody>\n",
       "    <tr>\n",
       "      <th>40</th>\n",
       "      <td>1535</td>\n",
       "      <td>Death Note</td>\n",
       "      <td>Mystery, Police, Psychological, Supernatural, ...</td>\n",
       "      <td>TV</td>\n",
       "      <td>37</td>\n",
       "      <td>8.71</td>\n",
       "      <td>1013917</td>\n",
       "      <td>[0, 0, 0, 0, 0, 0, 0, 0, 0, 0, 0, 0, 0, 0, 0, ...</td>\n",
       "      <td>37</td>\n",
       "    </tr>\n",
       "  </tbody>\n",
       "</table>\n",
       "</div>"
      ],
      "text/plain": [
       "    anime_id  ... int_episodes\n",
       "40      1535  ...           37\n",
       "\n",
       "[1 rows x 9 columns]"
      ]
     },
     "execution_count": 180,
     "metadata": {
      "tags": []
     },
     "output_type": "execute_result"
    }
   ],
   "source": [
    "anime[anime['anime_id'] == 1535]"
   ]
  },
  {
   "cell_type": "code",
   "execution_count": 176,
   "metadata": {
    "colab": {
     "base_uri": "https://localhost:8080/"
    },
    "executionInfo": {
     "elapsed": 283,
     "status": "ok",
     "timestamp": 1622632545925,
     "user": {
      "displayName": "Ánh Sương 257",
      "photoUrl": "https://lh3.googleusercontent.com/a-/AOh14GhCXmXVzbkkYszV1VAcXSYX8VeICYBoI3IcKUAo4Q=s64",
      "userId": "03472810742863595681"
     },
     "user_tz": -420
    },
    "id": "ZRUcAL2yb4Dm",
    "outputId": "2bb4bf45-f1e4-40da-cef0-cef1b8c94e2f"
   },
   "outputs": [
    {
     "data": {
      "text/plain": [
       "(1, 39340, 697.6550892857143)"
      ]
     },
     "execution_count": 176,
     "metadata": {
      "tags": []
     },
     "output_type": "execute_result"
    }
   ],
   "source": [
    "number_of_be_rated.min(), number_of_be_rated.max(), np.average(number_of_be_rated)"
   ]
  },
  {
   "cell_type": "code",
   "execution_count": 187,
   "metadata": {
    "colab": {
     "base_uri": "https://localhost:8080/"
    },
    "executionInfo": {
     "elapsed": 274,
     "status": "ok",
     "timestamp": 1622632909694,
     "user": {
      "displayName": "Ánh Sương 257",
      "photoUrl": "https://lh3.googleusercontent.com/a-/AOh14GhCXmXVzbkkYszV1VAcXSYX8VeICYBoI3IcKUAo4Q=s64",
      "userId": "03472810742863595681"
     },
     "user_tz": -420
    },
    "id": "LwcacIkncK0v",
    "outputId": "e96d9fe5-86d7-4935-9784-c9173b5b39f3"
   },
   "outputs": [
    {
     "data": {
      "text/plain": [
       "0.8809988612331219"
      ]
     },
     "execution_count": 187,
     "metadata": {
      "tags": []
     },
     "output_type": "execute_result"
    }
   ],
   "source": [
    "be_rated_count_1 = be_rated_count['user_id']\n",
    "be_rated_count_1[be_rated_count_1['count'] <= 5000].shape[0] / 12294"
   ]
  },
  {
   "cell_type": "code",
   "execution_count": 99,
   "metadata": {
    "executionInfo": {
     "elapsed": 264,
     "status": "ok",
     "timestamp": 1622628961033,
     "user": {
      "displayName": "Ánh Sương 257",
      "photoUrl": "https://lh3.googleusercontent.com/a-/AOh14GhCXmXVzbkkYszV1VAcXSYX8VeICYBoI3IcKUAo4Q=s64",
      "userId": "03472810742863595681"
     },
     "user_tz": -420
    },
    "id": "bAJc8AuWN2IM"
   },
   "outputs": [],
   "source": [
    "number_of_be_rated = be_rated_count['user_id']['count'].values"
   ]
  },
  {
   "cell_type": "code",
   "execution_count": 114,
   "metadata": {
    "colab": {
     "base_uri": "https://localhost:8080/",
     "height": 617
    },
    "executionInfo": {
     "elapsed": 472,
     "status": "ok",
     "timestamp": 1622629290978,
     "user": {
      "displayName": "Ánh Sương 257",
      "photoUrl": "https://lh3.googleusercontent.com/a-/AOh14GhCXmXVzbkkYszV1VAcXSYX8VeICYBoI3IcKUAo4Q=s64",
      "userId": "03472810742863595681"
     },
     "user_tz": -420
    },
    "id": "SbiELixuOIZV",
    "outputId": "ead5fd27-ca41-410c-b04a-c9d45f6b6a3f"
   },
   "outputs": [
    {
     "data": {
      "image/png": "[encoded data removed]",
      "text/plain": [
       "<Figure size 960x720 with 1 Axes>"
      ]
     },
     "metadata": {
      "needs_background": "light",
      "tags": []
     },
     "output_type": "display_data"
    }
   ],
   "source": [
    "figure(figsize=(12, 9), dpi=80)\n",
    "plt.xlabel(\"Being rated times\", fontsize=18)\n",
    "plt.hist(number_of_be_rated, bins=100)\n",
    "plt.show()"
   ]
  },
  {
   "cell_type": "code",
   "execution_count": 101,
   "metadata": {
    "colab": {
     "base_uri": "https://localhost:8080/"
    },
    "executionInfo": {
     "elapsed": 298,
     "status": "ok",
     "timestamp": 1622628994283,
     "user": {
      "displayName": "Ánh Sương 257",
      "photoUrl": "https://lh3.googleusercontent.com/a-/AOh14GhCXmXVzbkkYszV1VAcXSYX8VeICYBoI3IcKUAo4Q=s64",
      "userId": "03472810742863595681"
     },
     "user_tz": -420
    },
    "id": "HtvMJCQbOVQ5",
    "outputId": "13c692cb-42f6-4e18-ba6c-9d54cc58c0a6"
   },
   "outputs": [
    {
     "data": {
      "text/plain": [
       "(1, 39340)"
      ]
     },
     "execution_count": 101,
     "metadata": {
      "tags": []
     },
     "output_type": "execute_result"
    }
   ],
   "source": [
    "number_of_be_rated.min(), number_of_be_rated.max()"
   ]
  },
  {
   "cell_type": "code",
   "execution_count": 103,
   "metadata": {
    "colab": {
     "base_uri": "https://localhost:8080/",
     "height": 402
    },
    "executionInfo": {
     "elapsed": 266,
     "status": "ok",
     "timestamp": 1622629063071,
     "user": {
      "displayName": "Ánh Sương 257",
      "photoUrl": "https://lh3.googleusercontent.com/a-/AOh14GhCXmXVzbkkYszV1VAcXSYX8VeICYBoI3IcKUAo4Q=s64",
      "userId": "03472810742863595681"
     },
     "user_tz": -420
    },
    "id": "JS--KZSJOoB2",
    "outputId": "f140bdc0-913f-47e7-9df5-6e50b3f3429c"
   },
   "outputs": [
    {
     "data": {
      "text/html": [
       "<div>\n",
       "<style scoped>\n",
       "    .dataframe tbody tr th:only-of-type {\n",
       "        vertical-align: middle;\n",
       "    }\n",
       "\n",
       "    .dataframe tbody tr th {\n",
       "        vertical-align: top;\n",
       "    }\n",
       "\n",
       "    .dataframe thead th {\n",
       "        text-align: right;\n",
       "    }\n",
       "</style>\n",
       "<table border=\"1\" class=\"dataframe\">\n",
       "  <thead>\n",
       "    <tr style=\"text-align: right;\">\n",
       "      <th></th>\n",
       "      <th>user_id</th>\n",
       "      <th>anime_id</th>\n",
       "      <th>rating</th>\n",
       "    </tr>\n",
       "  </thead>\n",
       "  <tbody>\n",
       "    <tr>\n",
       "      <th>0</th>\n",
       "      <td>1</td>\n",
       "      <td>20</td>\n",
       "      <td>0</td>\n",
       "    </tr>\n",
       "    <tr>\n",
       "      <th>1</th>\n",
       "      <td>1</td>\n",
       "      <td>24</td>\n",
       "      <td>0</td>\n",
       "    </tr>\n",
       "    <tr>\n",
       "      <th>2</th>\n",
       "      <td>1</td>\n",
       "      <td>79</td>\n",
       "      <td>0</td>\n",
       "    </tr>\n",
       "    <tr>\n",
       "      <th>3</th>\n",
       "      <td>1</td>\n",
       "      <td>226</td>\n",
       "      <td>0</td>\n",
       "    </tr>\n",
       "    <tr>\n",
       "      <th>4</th>\n",
       "      <td>1</td>\n",
       "      <td>241</td>\n",
       "      <td>0</td>\n",
       "    </tr>\n",
       "    <tr>\n",
       "      <th>...</th>\n",
       "      <td>...</td>\n",
       "      <td>...</td>\n",
       "      <td>...</td>\n",
       "    </tr>\n",
       "    <tr>\n",
       "      <th>7813732</th>\n",
       "      <td>73515</td>\n",
       "      <td>16512</td>\n",
       "      <td>7</td>\n",
       "    </tr>\n",
       "    <tr>\n",
       "      <th>7813733</th>\n",
       "      <td>73515</td>\n",
       "      <td>17187</td>\n",
       "      <td>9</td>\n",
       "    </tr>\n",
       "    <tr>\n",
       "      <th>7813734</th>\n",
       "      <td>73515</td>\n",
       "      <td>22145</td>\n",
       "      <td>10</td>\n",
       "    </tr>\n",
       "    <tr>\n",
       "      <th>7813735</th>\n",
       "      <td>73516</td>\n",
       "      <td>790</td>\n",
       "      <td>9</td>\n",
       "    </tr>\n",
       "    <tr>\n",
       "      <th>7813736</th>\n",
       "      <td>73516</td>\n",
       "      <td>8074</td>\n",
       "      <td>9</td>\n",
       "    </tr>\n",
       "  </tbody>\n",
       "</table>\n",
       "<p>7813737 rows × 3 columns</p>\n",
       "</div>"
      ],
      "text/plain": [
       "         user_id  anime_id  rating\n",
       "0              1        20       0\n",
       "1              1        24       0\n",
       "2              1        79       0\n",
       "3              1       226       0\n",
       "4              1       241       0\n",
       "...          ...       ...     ...\n",
       "7813732    73515     16512       7\n",
       "7813733    73515     17187       9\n",
       "7813734    73515     22145      10\n",
       "7813735    73516       790       9\n",
       "7813736    73516      8074       9\n",
       "\n",
       "[7813737 rows x 3 columns]"
      ]
     },
     "execution_count": 103,
     "metadata": {
      "tags": []
     },
     "output_type": "execute_result"
    }
   ],
   "source": [
    "rating"
   ]
  },
  {
   "cell_type": "code",
   "execution_count": 108,
   "metadata": {
    "executionInfo": {
     "elapsed": 263,
     "status": "ok",
     "timestamp": 1622629189825,
     "user": {
      "displayName": "Ánh Sương 257",
      "photoUrl": "https://lh3.googleusercontent.com/a-/AOh14GhCXmXVzbkkYszV1VAcXSYX8VeICYBoI3IcKUAo4Q=s64",
      "userId": "03472810742863595681"
     },
     "user_tz": -420
    },
    "id": "L1nf4t07OpbT"
   },
   "outputs": [],
   "source": [
    "rate_value_count = rating[['rating', 'anime_id']].groupby(['rating']).agg(['count'])"
   ]
  },
  {
   "cell_type": "code",
   "execution_count": 194,
   "metadata": {
    "colab": {
     "base_uri": "https://localhost:8080/"
    },
    "executionInfo": {
     "elapsed": 289,
     "status": "ok",
     "timestamp": 1622633199064,
     "user": {
      "displayName": "Ánh Sương 257",
      "photoUrl": "https://lh3.googleusercontent.com/a-/AOh14GhCXmXVzbkkYszV1VAcXSYX8VeICYBoI3IcKUAo4Q=s64",
      "userId": "03472810742863595681"
     },
     "user_tz": -420
    },
    "id": "24ygvlWbd14m",
    "outputId": "b8a2f870-3587-4e7d-b6e9-4d04ad5044f1"
   },
   "outputs": [
    {
     "data": {
      "text/plain": [
       "710339.7272727273"
      ]
     },
     "execution_count": 194,
     "metadata": {
      "tags": []
     },
     "output_type": "execute_result"
    }
   ],
   "source": [
    "np.average(number_of_rated_value)"
   ]
  },
  {
   "cell_type": "code",
   "execution_count": 111,
   "metadata": {
    "colab": {
     "base_uri": "https://localhost:8080/"
    },
    "executionInfo": {
     "elapsed": 356,
     "status": "ok",
     "timestamp": 1622629207638,
     "user": {
      "displayName": "Ánh Sương 257",
      "photoUrl": "https://lh3.googleusercontent.com/a-/AOh14GhCXmXVzbkkYszV1VAcXSYX8VeICYBoI3IcKUAo4Q=s64",
      "userId": "03472810742863595681"
     },
     "user_tz": -420
    },
    "id": "hnHq1gFWO_PU",
    "outputId": "0563da37-d9be-4079-8b37-b239b6b6cc9b"
   },
   "outputs": [
    {
     "data": {
      "text/plain": [
       "Int64Index([0, 1, 2, 3, 4, 5, 6, 7, 8, 9, 10], dtype='int64', name='rating')"
      ]
     },
     "execution_count": 111,
     "metadata": {
      "tags": []
     },
     "output_type": "execute_result"
    }
   ],
   "source": [
    "rate_value_count.index"
   ]
  },
  {
   "cell_type": "code",
   "execution_count": 117,
   "metadata": {
    "colab": {
     "base_uri": "https://localhost:8080/",
     "height": 441
    },
    "executionInfo": {
     "elapsed": 299,
     "status": "ok",
     "timestamp": 1622629334548,
     "user": {
      "displayName": "Ánh Sương 257",
      "photoUrl": "https://lh3.googleusercontent.com/a-/AOh14GhCXmXVzbkkYszV1VAcXSYX8VeICYBoI3IcKUAo4Q=s64",
      "userId": "03472810742863595681"
     },
     "user_tz": -420
    },
    "id": "iMedeQpNPKR1",
    "outputId": "79f5bf47-5085-408d-9fad-0e5d4e611ff0"
   },
   "outputs": [
    {
     "data": {
      "image/png": "[encoded data removed]",
      "text/plain": [
       "<Figure size 640x480 with 1 Axes>"
      ]
     },
     "metadata": {
      "needs_background": "light",
      "tags": []
     },
     "output_type": "display_data"
    }
   ],
   "source": [
    "number_of_rated_value = rate_value_count['anime_id']['count']\n",
    "figure(figsize=(8, 6), dpi=80)\n",
    "plt.xlabel(\"Rate value\", fontsize=12)\n",
    "plt.ylabel(\"Times\", fontsize=12)\n",
    "plt.bar(rate_value_count.index, number_of_rated_value)\n",
    "plt.show()"
   ]
  },
  {
   "cell_type": "code",
   "execution_count": 129,
   "metadata": {
    "executionInfo": {
     "elapsed": 436,
     "status": "ok",
     "timestamp": 1622630320945,
     "user": {
      "displayName": "Ánh Sương 257",
      "photoUrl": "https://lh3.googleusercontent.com/a-/AOh14GhCXmXVzbkkYszV1VAcXSYX8VeICYBoI3IcKUAo4Q=s64",
      "userId": "03472810742863595681"
     },
     "user_tz": -420
    },
    "id": "fBYMVg14PUY3"
   },
   "outputs": [],
   "source": [
    "episodes = np.array(anime[anime['episodes'] != 'Unknown']['episodes'].values, dtype=np.int32)"
   ]
  },
  {
   "cell_type": "code",
   "execution_count": 130,
   "metadata": {
    "colab": {
     "base_uri": "https://localhost:8080/"
    },
    "executionInfo": {
     "elapsed": 298,
     "status": "ok",
     "timestamp": 1622630325558,
     "user": {
      "displayName": "Ánh Sương 257",
      "photoUrl": "https://lh3.googleusercontent.com/a-/AOh14GhCXmXVzbkkYszV1VAcXSYX8VeICYBoI3IcKUAo4Q=s64",
      "userId": "03472810742863595681"
     },
     "user_tz": -420
    },
    "id": "2VvwH6xlTH0d",
    "outputId": "62fd45f4-c664-4a14-a2fa-a5497a2f12f5"
   },
   "outputs": [
    {
     "data": {
      "text/plain": [
       "array([ 1, 64, 51, ...,  4,  1,  1], dtype=int32)"
      ]
     },
     "execution_count": 130,
     "metadata": {
      "tags": []
     },
     "output_type": "execute_result"
    }
   ],
   "source": [
    "episodes"
   ]
  },
  {
   "cell_type": "code",
   "execution_count": 134,
   "metadata": {
    "colab": {
     "base_uri": "https://localhost:8080/",
     "height": 617
    },
    "executionInfo": {
     "elapsed": 736,
     "status": "ok",
     "timestamp": 1622630370234,
     "user": {
      "displayName": "Ánh Sương 257",
      "photoUrl": "https://lh3.googleusercontent.com/a-/AOh14GhCXmXVzbkkYszV1VAcXSYX8VeICYBoI3IcKUAo4Q=s64",
      "userId": "03472810742863595681"
     },
     "user_tz": -420
    },
    "id": "Qgj1yVmxTdo1",
    "outputId": "dd699f3c-8ad2-4803-c3fe-a81b0b74b15a"
   },
   "outputs": [
    {
     "data": {
      "image/png": "[encoded data removed]",
      "text/plain": [
       "<Figure size 960x720 with 1 Axes>"
      ]
     },
     "metadata": {
      "needs_background": "light",
      "tags": []
     },
     "output_type": "display_data"
    }
   ],
   "source": [
    "figure(figsize=(12, 9), dpi=80)\n",
    "plt.xlabel(\"Episodes\", fontsize=18)\n",
    "plt.hist(episodes, bins=100)\n",
    "plt.show()"
   ]
  },
  {
   "cell_type": "code",
   "execution_count": 135,
   "metadata": {
    "colab": {
     "base_uri": "https://localhost:8080/"
    },
    "executionInfo": {
     "elapsed": 277,
     "status": "ok",
     "timestamp": 1622630391743,
     "user": {
      "displayName": "Ánh Sương 257",
      "photoUrl": "https://lh3.googleusercontent.com/a-/AOh14GhCXmXVzbkkYszV1VAcXSYX8VeICYBoI3IcKUAo4Q=s64",
      "userId": "03472810742863595681"
     },
     "user_tz": -420
    },
    "id": "pfGT6QO9TjC0",
    "outputId": "800f11fb-3c47-4b5d-b85d-72199491edd9"
   },
   "outputs": [
    {
     "data": {
      "text/plain": [
       "(1, 1818)"
      ]
     },
     "execution_count": 135,
     "metadata": {
      "tags": []
     },
     "output_type": "execute_result"
    }
   ],
   "source": [
    "episodes.min(), episodes.max()"
   ]
  },
  {
   "cell_type": "code",
   "execution_count": 140,
   "metadata": {
    "colab": {
     "base_uri": "https://localhost:8080/",
     "height": 314
    },
    "executionInfo": {
     "elapsed": 282,
     "status": "ok",
     "timestamp": 1622630528000,
     "user": {
      "displayName": "Ánh Sương 257",
      "photoUrl": "https://lh3.googleusercontent.com/a-/AOh14GhCXmXVzbkkYszV1VAcXSYX8VeICYBoI3IcKUAo4Q=s64",
      "userId": "03472810742863595681"
     },
     "user_tz": -420
    },
    "id": "zLbcHuneTtqq",
    "outputId": "f2e4d1be-7ff7-4d61-df2d-21f75e5a35b4"
   },
   "outputs": [
    {
     "data": {
      "text/html": [
       "<div>\n",
       "<style scoped>\n",
       "    .dataframe tbody tr th:only-of-type {\n",
       "        vertical-align: middle;\n",
       "    }\n",
       "\n",
       "    .dataframe tbody tr th {\n",
       "        vertical-align: top;\n",
       "    }\n",
       "\n",
       "    .dataframe thead tr th {\n",
       "        text-align: left;\n",
       "    }\n",
       "\n",
       "    .dataframe thead tr:last-of-type th {\n",
       "        text-align: right;\n",
       "    }\n",
       "</style>\n",
       "<table border=\"1\" class=\"dataframe\">\n",
       "  <thead>\n",
       "    <tr>\n",
       "      <th></th>\n",
       "      <th>anime_id</th>\n",
       "    </tr>\n",
       "    <tr>\n",
       "      <th></th>\n",
       "      <th>count</th>\n",
       "    </tr>\n",
       "    <tr>\n",
       "      <th>type</th>\n",
       "      <th></th>\n",
       "    </tr>\n",
       "  </thead>\n",
       "  <tbody>\n",
       "    <tr>\n",
       "      <th></th>\n",
       "      <td>25</td>\n",
       "    </tr>\n",
       "    <tr>\n",
       "      <th>Movie</th>\n",
       "      <td>4</td>\n",
       "    </tr>\n",
       "    <tr>\n",
       "      <th>Music</th>\n",
       "      <td>1</td>\n",
       "    </tr>\n",
       "    <tr>\n",
       "      <th>ONA</th>\n",
       "      <td>46</td>\n",
       "    </tr>\n",
       "    <tr>\n",
       "      <th>OVA</th>\n",
       "      <td>50</td>\n",
       "    </tr>\n",
       "    <tr>\n",
       "      <th>Special</th>\n",
       "      <td>5</td>\n",
       "    </tr>\n",
       "    <tr>\n",
       "      <th>TV</th>\n",
       "      <td>209</td>\n",
       "    </tr>\n",
       "  </tbody>\n",
       "</table>\n",
       "</div>"
      ],
      "text/plain": [
       "        anime_id\n",
       "           count\n",
       "type            \n",
       "              25\n",
       "Movie          4\n",
       "Music          1\n",
       "ONA           46\n",
       "OVA           50\n",
       "Special        5\n",
       "TV           209"
      ]
     },
     "execution_count": 140,
     "metadata": {
      "tags": []
     },
     "output_type": "execute_result"
    }
   ],
   "source": [
    "anime[anime['episodes'] == 'Unknown'][['type', 'anime_id']].groupby(['type']).agg(['count'])"
   ]
  },
  {
   "cell_type": "code",
   "execution_count": 195,
   "metadata": {
    "colab": {
     "base_uri": "https://localhost:8080/"
    },
    "executionInfo": {
     "elapsed": 1040,
     "status": "ok",
     "timestamp": 1622634007516,
     "user": {
      "displayName": "Ánh Sương 257",
      "photoUrl": "https://lh3.googleusercontent.com/a-/AOh14GhCXmXVzbkkYszV1VAcXSYX8VeICYBoI3IcKUAo4Q=s64",
      "userId": "03472810742863595681"
     },
     "user_tz": -420
    },
    "id": "i6m1LXe1T78f",
    "outputId": "3c469891-f4e1-4bf7-9528-f70c110e4c16"
   },
   "outputs": [
    {
     "data": {
      "text/plain": [
       "(11197, 2)"
      ]
     },
     "execution_count": 195,
     "metadata": {
      "tags": []
     },
     "output_type": "execute_result"
    }
   ],
   "source": [
    "pd.read_csv('/content/drive/MyDrive/Colab Notebooks/Anime Recommendation System/Data/Encode/short_vector.csv').shape"
   ]
  },
  {
   "cell_type": "code",
   "execution_count": 196,
   "metadata": {
    "colab": {
     "base_uri": "https://localhost:8080/",
     "height": 186
    },
    "executionInfo": {
     "elapsed": 310,
     "status": "ok",
     "timestamp": 1622634105398,
     "user": {
      "displayName": "Ánh Sương 257",
      "photoUrl": "https://lh3.googleusercontent.com/a-/AOh14GhCXmXVzbkkYszV1VAcXSYX8VeICYBoI3IcKUAo4Q=s64",
      "userId": "03472810742863595681"
     },
     "user_tz": -420
    },
    "id": "dc5TNMnOhgWx",
    "outputId": "eca04c4b-63bd-4c86-cc54-36a4b8423df5"
   },
   "outputs": [
    {
     "data": {
      "text/html": [
       "<div>\n",
       "<style scoped>\n",
       "    .dataframe tbody tr th:only-of-type {\n",
       "        vertical-align: middle;\n",
       "    }\n",
       "\n",
       "    .dataframe tbody tr th {\n",
       "        vertical-align: top;\n",
       "    }\n",
       "\n",
       "    .dataframe thead th {\n",
       "        text-align: right;\n",
       "    }\n",
       "</style>\n",
       "<table border=\"1\" class=\"dataframe\">\n",
       "  <thead>\n",
       "    <tr style=\"text-align: right;\">\n",
       "      <th></th>\n",
       "      <th>anime_id</th>\n",
       "      <th>name</th>\n",
       "      <th>genre</th>\n",
       "      <th>type</th>\n",
       "      <th>episodes</th>\n",
       "      <th>rating</th>\n",
       "      <th>members</th>\n",
       "      <th>encoded_genre</th>\n",
       "      <th>int_episodes</th>\n",
       "    </tr>\n",
       "  </thead>\n",
       "  <tbody>\n",
       "    <tr>\n",
       "      <th>0</th>\n",
       "      <td>32281</td>\n",
       "      <td>Kimi no Na wa.</td>\n",
       "      <td>Drama, Romance, School, Supernatural</td>\n",
       "      <td>Movie</td>\n",
       "      <td>1</td>\n",
       "      <td>9.37</td>\n",
       "      <td>200630</td>\n",
       "      <td>[0, 0, 0, 0, 0, 0, 1, 0, 0, 0, 0, 0, 0, 0, 0, ...</td>\n",
       "      <td>1</td>\n",
       "    </tr>\n",
       "    <tr>\n",
       "      <th>1</th>\n",
       "      <td>5114</td>\n",
       "      <td>Fullmetal Alchemist: Brotherhood</td>\n",
       "      <td>Action, Adventure, Drama, Fantasy, Magic, Mili...</td>\n",
       "      <td>TV</td>\n",
       "      <td>64</td>\n",
       "      <td>9.26</td>\n",
       "      <td>793665</td>\n",
       "      <td>[1, 1, 0, 0, 0, 0, 1, 0, 1, 0, 0, 0, 0, 0, 0, ...</td>\n",
       "      <td>64</td>\n",
       "    </tr>\n",
       "    <tr>\n",
       "      <th>2</th>\n",
       "      <td>28977</td>\n",
       "      <td>Gintama°</td>\n",
       "      <td>Action, Comedy, Historical, Parody, Samurai, S...</td>\n",
       "      <td>TV</td>\n",
       "      <td>51</td>\n",
       "      <td>9.25</td>\n",
       "      <td>114262</td>\n",
       "      <td>[1, 0, 0, 1, 0, 0, 0, 0, 0, 0, 0, 0, 1, 0, 0, ...</td>\n",
       "      <td>51</td>\n",
       "    </tr>\n",
       "  </tbody>\n",
       "</table>\n",
       "</div>"
      ],
      "text/plain": [
       "   anime_id  ... int_episodes\n",
       "0     32281  ...            1\n",
       "1      5114  ...           64\n",
       "2     28977  ...           51\n",
       "\n",
       "[3 rows x 9 columns]"
      ]
     },
     "execution_count": 196,
     "metadata": {
      "tags": []
     },
     "output_type": "execute_result"
    }
   ],
   "source": [
    "anime.head(3)"
   ]
  },
  {
   "cell_type": "code",
   "execution_count": 197,
   "metadata": {
    "colab": {
     "base_uri": "https://localhost:8080/",
     "height": 402
    },
    "executionInfo": {
     "elapsed": 316,
     "status": "ok",
     "timestamp": 1622634180768,
     "user": {
      "displayName": "Ánh Sương 257",
      "photoUrl": "https://lh3.googleusercontent.com/a-/AOh14GhCXmXVzbkkYszV1VAcXSYX8VeICYBoI3IcKUAo4Q=s64",
      "userId": "03472810742863595681"
     },
     "user_tz": -420
    },
    "id": "aizi3f1mh4cS",
    "outputId": "209e05f5-cd4f-4a64-add7-e11b53ecda9b"
   },
   "outputs": [
    {
     "data": {
      "text/html": [
       "<div>\n",
       "<style scoped>\n",
       "    .dataframe tbody tr th:only-of-type {\n",
       "        vertical-align: middle;\n",
       "    }\n",
       "\n",
       "    .dataframe tbody tr th {\n",
       "        vertical-align: top;\n",
       "    }\n",
       "\n",
       "    .dataframe thead th {\n",
       "        text-align: right;\n",
       "    }\n",
       "</style>\n",
       "<table border=\"1\" class=\"dataframe\">\n",
       "  <thead>\n",
       "    <tr style=\"text-align: right;\">\n",
       "      <th></th>\n",
       "      <th>user_id</th>\n",
       "      <th>anime_id</th>\n",
       "      <th>rating</th>\n",
       "    </tr>\n",
       "  </thead>\n",
       "  <tbody>\n",
       "    <tr>\n",
       "      <th>0</th>\n",
       "      <td>1</td>\n",
       "      <td>20</td>\n",
       "      <td>0</td>\n",
       "    </tr>\n",
       "    <tr>\n",
       "      <th>1</th>\n",
       "      <td>1</td>\n",
       "      <td>24</td>\n",
       "      <td>0</td>\n",
       "    </tr>\n",
       "    <tr>\n",
       "      <th>2</th>\n",
       "      <td>1</td>\n",
       "      <td>79</td>\n",
       "      <td>0</td>\n",
       "    </tr>\n",
       "    <tr>\n",
       "      <th>3</th>\n",
       "      <td>1</td>\n",
       "      <td>226</td>\n",
       "      <td>0</td>\n",
       "    </tr>\n",
       "    <tr>\n",
       "      <th>4</th>\n",
       "      <td>1</td>\n",
       "      <td>241</td>\n",
       "      <td>0</td>\n",
       "    </tr>\n",
       "    <tr>\n",
       "      <th>...</th>\n",
       "      <td>...</td>\n",
       "      <td>...</td>\n",
       "      <td>...</td>\n",
       "    </tr>\n",
       "    <tr>\n",
       "      <th>7813732</th>\n",
       "      <td>73515</td>\n",
       "      <td>16512</td>\n",
       "      <td>7</td>\n",
       "    </tr>\n",
       "    <tr>\n",
       "      <th>7813733</th>\n",
       "      <td>73515</td>\n",
       "      <td>17187</td>\n",
       "      <td>9</td>\n",
       "    </tr>\n",
       "    <tr>\n",
       "      <th>7813734</th>\n",
       "      <td>73515</td>\n",
       "      <td>22145</td>\n",
       "      <td>10</td>\n",
       "    </tr>\n",
       "    <tr>\n",
       "      <th>7813735</th>\n",
       "      <td>73516</td>\n",
       "      <td>790</td>\n",
       "      <td>9</td>\n",
       "    </tr>\n",
       "    <tr>\n",
       "      <th>7813736</th>\n",
       "      <td>73516</td>\n",
       "      <td>8074</td>\n",
       "      <td>9</td>\n",
       "    </tr>\n",
       "  </tbody>\n",
       "</table>\n",
       "<p>7813737 rows × 3 columns</p>\n",
       "</div>"
      ],
      "text/plain": [
       "         user_id  anime_id  rating\n",
       "0              1        20       0\n",
       "1              1        24       0\n",
       "2              1        79       0\n",
       "3              1       226       0\n",
       "4              1       241       0\n",
       "...          ...       ...     ...\n",
       "7813732    73515     16512       7\n",
       "7813733    73515     17187       9\n",
       "7813734    73515     22145      10\n",
       "7813735    73516       790       9\n",
       "7813736    73516      8074       9\n",
       "\n",
       "[7813737 rows x 3 columns]"
      ]
     },
     "execution_count": 197,
     "metadata": {
      "tags": []
     },
     "output_type": "execute_result"
    }
   ],
   "source": [
    "rating"
   ]
  },
  {
   "cell_type": "code",
   "execution_count": null,
   "metadata": {
    "id": "5KMUBdD4iK1L"
   },
   "outputs": [],
   "source": []
  }
 ],
 "metadata": {
  "colab": {
   "authorship_tag": "ABX9TyP9BSRtDhlFx3+4UtZRfIFu",
   "collapsed_sections": [],
   "mount_file_id": "10Cp3uVx9kYwDzyien0faiVFLWH8vyFRo",
   "name": "Analysis.ipynb",
   "provenance": []
  },
  "kernelspec": {
   "display_name": "Python 3",
   "language": "python",
   "name": "python3"
  },
  "language_info": {
   "codemirror_mode": {
    "name": "ipython",
    "version": 3
   },
   "file_extension": ".py",
   "mimetype": "text/x-python",
   "name": "python",
   "nbconvert_exporter": "python",
   "pygments_lexer": "ipython3",
   "version": "3.8.5"
  }
 },
 "nbformat": 4,
 "nbformat_minor": 1
}
